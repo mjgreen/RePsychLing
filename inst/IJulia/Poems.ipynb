{
 "cells": [
  {
   "cell_type": "markdown",
   "metadata": {},
   "source": [
    "# The poems data"
   ]
  },
  {
   "cell_type": "code",
   "execution_count": 1,
   "metadata": {},
   "outputs": [],
   "source": [
    "using LinearAlgebra, MixedModels, RCall"
   ]
  },
  {
   "cell_type": "code",
   "execution_count": 2,
   "metadata": {},
   "outputs": [
    {
     "data": {
      "text/html": [
       "<table class=\"data-frame\"><thead><tr><th></th><th>ReadingTime</th><th>Subject</th><th>Sex</th><th>Age</th><th>NPoems</th><th>MultipleChoiceRT</th><th>Trial</th><th>NumberOfWordsIntoLine</th><th>PositionBegMidEnd</th><th>SentenceLength</th><th>Poem</th><th>Word</th><th>WordFrequencyInPoem</th><th>RhymeFreqInPoem</th><th>OnsetFreqInPoem</th><th>WordLength</th><th>FamilySize</th><th>InflectionalEntropy</th><th>LemmaFrequency</th><th>WordFormFrequency</th><th>NumberOfMeanings</th><th>IsFunctionWord</th><th>HasPunctuationMark</th><th>NumberOfMorphemes</th><th>LogReadingTime</th><th>LogWordFormFrequency</th><th>LogLemmaFrequency</th><th>LogFamilySize</th><th>LogMultipleChoiceRT</th><th>LogNPoems</th><th>LogNumberOfMeanings</th></tr></thead><tbody><tr><th>1</th><td>340</td><td>Subj281</td><td>f</td><td>22.0</td><td>58.0</td><td>9704</td><td>487</td><td>5</td><td>mid</td><td>8</td><td>G35</td><td>aan</td><td>1</td><td>1</td><td>1</td><td>3</td><td>539</td><td>0.0</td><td>238761</td><td>268271</td><td>0</td><td>FALSE</td><td>TRUE</td><td>1</td><td>5.82895</td><td>12.4998</td><td>12.3832</td><td>6.29157</td><td>9.18029</td><td>4.06044</td><td>0.0</td></tr><tr><th>2</th><td>344</td><td>Subj290</td><td>f</td><td>30.0</td><td>17.0</td><td>25469</td><td>769</td><td>5</td><td>mid</td><td>9</td><td>G52</td><td>aan</td><td>2</td><td>2</td><td>2</td><td>3</td><td>539</td><td>0.0</td><td>238761</td><td>268271</td><td>0</td><td>FALSE</td><td>FALSE</td><td>1</td><td>5.84064</td><td>12.4998</td><td>12.3832</td><td>6.29157</td><td>10.1452</td><td>2.83321</td><td>0.0</td></tr><tr><th>3</th><td>453</td><td>Subj119</td><td>m</td><td>21.0</td><td>17.0</td><td>23015</td><td>794</td><td>4</td><td>mid</td><td>8</td><td>G71</td><td>aan</td><td>2</td><td>3</td><td>3</td><td>3</td><td>539</td><td>0.0</td><td>238761</td><td>268271</td><td>0</td><td>FALSE</td><td>FALSE</td><td>1</td><td>6.11589</td><td>12.4998</td><td>12.3832</td><td>6.29157</td><td>10.0439</td><td>2.83321</td><td>0.0</td></tr><tr><th>4</th><td>290</td><td>Subj112</td><td>m</td><td>23.0</td><td>5.0</td><td>7110</td><td>458</td><td>5</td><td>mid</td><td>7</td><td>G80</td><td>aan</td><td>1</td><td>1</td><td>1</td><td>3</td><td>539</td><td>0.0</td><td>238761</td><td>268271</td><td>0</td><td>FALSE</td><td>FALSE</td><td>1</td><td>5.66988</td><td>12.4998</td><td>12.3832</td><td>6.29157</td><td>8.86926</td><td>1.60944</td><td>0.0</td></tr><tr><th>5</th><td>343</td><td>Subj294</td><td>m</td><td>21.0</td><td>5.0</td><td>12547</td><td>45</td><td>5</td><td>mid</td><td>9</td><td>G54</td><td>aan</td><td>1</td><td>1</td><td>1</td><td>3</td><td>539</td><td>0.0</td><td>238761</td><td>268271</td><td>0</td><td>FALSE</td><td>FALSE</td><td>1</td><td>5.83773</td><td>12.4998</td><td>12.3832</td><td>6.29157</td><td>9.43724</td><td>1.60944</td><td>0.0</td></tr><tr><th>6</th><td>296</td><td>Subj52</td><td>f</td><td>22.0</td><td>17.0</td><td>15515</td><td>703</td><td>5</td><td>mid</td><td>9</td><td>G52</td><td>aan</td><td>2</td><td>2</td><td>2</td><td>3</td><td>539</td><td>0.0</td><td>238761</td><td>268271</td><td>0</td><td>FALSE</td><td>FALSE</td><td>1</td><td>5.69036</td><td>12.4998</td><td>12.3832</td><td>6.29157</td><td>9.64956</td><td>2.83321</td><td>0.0</td></tr><tr><th>7</th><td>321</td><td>Subj118</td><td>m</td><td>48.0</td><td>17.0</td><td>9313</td><td>63</td><td>5</td><td>mid</td><td>7</td><td>G80</td><td>aan</td><td>1</td><td>1</td><td>1</td><td>3</td><td>539</td><td>0.0</td><td>238761</td><td>268271</td><td>0</td><td>FALSE</td><td>FALSE</td><td>1</td><td>5.77144</td><td>12.4998</td><td>12.3832</td><td>6.29157</td><td>9.13917</td><td>2.83321</td><td>0.0</td></tr><tr><th>8</th><td>290</td><td>Subj6</td><td>f</td><td>19.0</td><td>5.0</td><td>15442</td><td>1059</td><td>5</td><td>mid</td><td>14</td><td>G64</td><td>aan</td><td>3</td><td>3</td><td>3</td><td>3</td><td>539</td><td>0.0</td><td>238761</td><td>268271</td><td>0</td><td>FALSE</td><td>FALSE</td><td>1</td><td>5.66988</td><td>12.4998</td><td>12.3832</td><td>6.29157</td><td>9.64485</td><td>1.60944</td><td>0.0</td></tr><tr><th>9</th><td>1187</td><td>Subj48</td><td>f</td><td>20.0</td><td>5.0</td><td>18047</td><td>362</td><td>7</td><td>mid</td><td>10</td><td>G71</td><td>aan</td><td>1</td><td>2</td><td>2</td><td>3</td><td>539</td><td>0.0</td><td>238761</td><td>268271</td><td>0</td><td>FALSE</td><td>FALSE</td><td>1</td><td>7.07918</td><td>12.4998</td><td>12.3832</td><td>6.29157</td><td>9.80073</td><td>1.60944</td><td>0.0</td></tr><tr><th>10</th><td>422</td><td>Subj324</td><td>f</td><td>47.0</td><td>5.0</td><td>18922</td><td>837</td><td>1</td><td>beg</td><td>9</td><td>G10</td><td>aan</td><td>2</td><td>2</td><td>2</td><td>3</td><td>539</td><td>0.0</td><td>238761</td><td>268271</td><td>0</td><td>FALSE</td><td>FALSE</td><td>1</td><td>6.04501</td><td>12.4998</td><td>12.3832</td><td>6.29157</td><td>9.84808</td><td>1.60944</td><td>0.0</td></tr><tr><th>11</th><td>460</td><td>Subj180</td><td>m</td><td>23.0</td><td>5.0</td><td>16764</td><td>381</td><td>1</td><td>beg</td><td>9</td><td>G10</td><td>aan</td><td>2</td><td>2</td><td>2</td><td>3</td><td>539</td><td>0.0</td><td>238761</td><td>268271</td><td>0</td><td>FALSE</td><td>FALSE</td><td>1</td><td>6.13123</td><td>12.4998</td><td>12.3832</td><td>6.29157</td><td>9.72699</td><td>1.60944</td><td>0.0</td></tr><tr><th>12</th><td>281</td><td>Subj146</td><td>f</td><td>22.0</td><td>17.0</td><td>1625</td><td>429</td><td>1</td><td>beg</td><td>9</td><td>G10</td><td>aan</td><td>2</td><td>2</td><td>2</td><td>3</td><td>539</td><td>0.0</td><td>238761</td><td>268271</td><td>0</td><td>FALSE</td><td>FALSE</td><td>1</td><td>5.63835</td><td>12.4998</td><td>12.3832</td><td>6.29157</td><td>7.39326</td><td>2.83321</td><td>0.0</td></tr><tr><th>13</th><td>243</td><td>Subj72</td><td>f</td><td>30.0</td><td>58.0</td><td>12502</td><td>246</td><td>4</td><td>mid</td><td>8</td><td>G65</td><td>aan</td><td>1</td><td>3</td><td>3</td><td>3</td><td>539</td><td>0.0</td><td>238761</td><td>268271</td><td>0</td><td>FALSE</td><td>FALSE</td><td>1</td><td>5.49306</td><td>12.4998</td><td>12.3832</td><td>6.29157</td><td>9.43364</td><td>4.06044</td><td>0.0</td></tr><tr><th>14</th><td>410</td><td>Subj29</td><td>m</td><td>24.0</td><td>5.0</td><td>6248</td><td>665</td><td>5</td><td>mid</td><td>9</td><td>G78</td><td>aan</td><td>1</td><td>2</td><td>2</td><td>3</td><td>539</td><td>0.0</td><td>238761</td><td>268271</td><td>0</td><td>FALSE</td><td>FALSE</td><td>1</td><td>6.01616</td><td>12.4998</td><td>12.3832</td><td>6.29157</td><td>8.74002</td><td>1.60944</td><td>0.0</td></tr><tr><th>15</th><td>491</td><td>Subj280</td><td>f</td><td>27.0</td><td>5.0</td><td>15372</td><td>286</td><td>1</td><td>beg</td><td>10</td><td>G21</td><td>aan</td><td>1</td><td>1</td><td>1</td><td>3</td><td>539</td><td>0.0</td><td>238761</td><td>268271</td><td>0</td><td>FALSE</td><td>FALSE</td><td>1</td><td>6.19644</td><td>12.4998</td><td>12.3832</td><td>6.29157</td><td>9.6403</td><td>1.60944</td><td>0.0</td></tr><tr><th>16</th><td>437</td><td>Subj34</td><td>m</td><td>19.0</td><td>5.0</td><td>13172</td><td>142</td><td>4</td><td>mid</td><td>7</td><td>G13</td><td>aan</td><td>1</td><td>1</td><td>1</td><td>3</td><td>539</td><td>0.0</td><td>238761</td><td>268271</td><td>0</td><td>FALSE</td><td>FALSE</td><td>1</td><td>6.07993</td><td>12.4998</td><td>12.3832</td><td>6.29157</td><td>9.48585</td><td>1.60944</td><td>0.0</td></tr><tr><th>17</th><td>266</td><td>Subj243</td><td>m</td><td>23.0</td><td>5.0</td><td>4562</td><td>829</td><td>5</td><td>mid</td><td>8</td><td>G61</td><td>aan</td><td>1</td><td>1</td><td>1</td><td>3</td><td>539</td><td>0.0</td><td>238761</td><td>268271</td><td>0</td><td>FALSE</td><td>FALSE</td><td>1</td><td>5.5835</td><td>12.4998</td><td>12.3832</td><td>6.29157</td><td>8.42552</td><td>1.60944</td><td>0.0</td></tr><tr><th>18</th><td>290</td><td>Subj183</td><td>f</td><td>23.0</td><td>58.0</td><td>43843</td><td>510</td><td>5</td><td>end</td><td>6</td><td>G49</td><td>aan</td><td>1</td><td>1</td><td>1</td><td>3</td><td>539</td><td>0.0</td><td>238761</td><td>268271</td><td>0</td><td>FALSE</td><td>FALSE</td><td>1</td><td>5.66988</td><td>12.4998</td><td>12.3832</td><td>6.29157</td><td>10.6884</td><td>4.06044</td><td>0.0</td></tr><tr><th>19</th><td>438</td><td>Subj7</td><td>f</td><td>20.0</td><td>58.0</td><td>16937</td><td>469</td><td>5</td><td>mid</td><td>9</td><td>G54</td><td>aan</td><td>1</td><td>1</td><td>1</td><td>3</td><td>539</td><td>0.0</td><td>238761</td><td>268271</td><td>0</td><td>FALSE</td><td>FALSE</td><td>1</td><td>6.08222</td><td>12.4998</td><td>12.3832</td><td>6.29157</td><td>9.73726</td><td>4.06044</td><td>0.0</td></tr><tr><th>20</th><td>331</td><td>Subj200</td><td>m</td><td>24.0</td><td>17.0</td><td>27729</td><td>171</td><td>9</td><td>mid</td><td>11</td><td>G39</td><td>aan</td><td>1</td><td>1</td><td>1</td><td>3</td><td>539</td><td>0.0</td><td>238761</td><td>268271</td><td>0</td><td>FALSE</td><td>TRUE</td><td>1</td><td>5.80212</td><td>12.4998</td><td>12.3832</td><td>6.29157</td><td>10.2302</td><td>2.83321</td><td>0.0</td></tr><tr><th>21</th><td>547</td><td>Subj160</td><td>f</td><td>63.0</td><td>5.0</td><td>26235</td><td>541</td><td>4</td><td>mid</td><td>8</td><td>G16</td><td>aan</td><td>1</td><td>1</td><td>1</td><td>3</td><td>539</td><td>0.0</td><td>238761</td><td>268271</td><td>0</td><td>FALSE</td><td>FALSE</td><td>1</td><td>6.30445</td><td>12.4998</td><td>12.3832</td><td>6.29157</td><td>10.1748</td><td>1.60944</td><td>0.0</td></tr><tr><th>22</th><td>600</td><td>Subj68</td><td>m</td><td>51.0</td><td>5.0</td><td>14770</td><td>633</td><td>4</td><td>mid</td><td>8</td><td>G65</td><td>aan</td><td>1</td><td>3</td><td>3</td><td>3</td><td>539</td><td>0.0</td><td>238761</td><td>268271</td><td>0</td><td>FALSE</td><td>FALSE</td><td>1</td><td>6.39693</td><td>12.4998</td><td>12.3832</td><td>6.29157</td><td>9.60035</td><td>1.60944</td><td>0.0</td></tr><tr><th>23</th><td>534</td><td>Subj239</td><td>f</td><td>24.0</td><td>17.0</td><td>32076</td><td>120</td><td>4</td><td>mid</td><td>7</td><td>G34</td><td>aan</td><td>1</td><td>1</td><td>1</td><td>3</td><td>539</td><td>0.0</td><td>238761</td><td>268271</td><td>0</td><td>FALSE</td><td>FALSE</td><td>1</td><td>6.2804</td><td>12.4998</td><td>12.3832</td><td>6.29157</td><td>10.3759</td><td>2.83321</td><td>0.0</td></tr><tr><th>24</th><td>282</td><td>Subj86</td><td>f</td><td>23.0</td><td>17.0</td><td>15844</td><td>664</td><td>4</td><td>mid</td><td>7</td><td>G34</td><td>aan</td><td>1</td><td>1</td><td>1</td><td>3</td><td>539</td><td>0.0</td><td>238761</td><td>268271</td><td>0</td><td>FALSE</td><td>FALSE</td><td>1</td><td>5.64191</td><td>12.4998</td><td>12.3832</td><td>6.29157</td><td>9.67055</td><td>2.83321</td><td>0.0</td></tr><tr><th>25</th><td>438</td><td>Subj248</td><td>m</td><td>23.0</td><td>5.0</td><td>20812</td><td>418</td><td>5</td><td>end</td><td>6</td><td>G83</td><td>aan</td><td>1</td><td>1</td><td>1</td><td>3</td><td>539</td><td>0.0</td><td>238761</td><td>268271</td><td>0</td><td>FALSE</td><td>TRUE</td><td>1</td><td>6.08222</td><td>12.4998</td><td>12.3832</td><td>6.29157</td><td>9.94329</td><td>1.60944</td><td>0.0</td></tr><tr><th>26</th><td>281</td><td>Subj128</td><td>f</td><td>50.0</td><td>5.0</td><td>9032</td><td>889</td><td>4</td><td>mid</td><td>6</td><td>G47</td><td>aan</td><td>2</td><td>2</td><td>2</td><td>3</td><td>539</td><td>0.0</td><td>238761</td><td>268271</td><td>0</td><td>FALSE</td><td>FALSE</td><td>1</td><td>5.63835</td><td>12.4998</td><td>12.3832</td><td>6.29157</td><td>9.10853</td><td>1.60944</td><td>0.0</td></tr><tr><th>27</th><td>380</td><td>Subj68</td><td>m</td><td>51.0</td><td>5.0</td><td>14770</td><td>724</td><td>5</td><td>mid</td><td>8</td><td>G52</td><td>aan</td><td>1</td><td>1</td><td>1</td><td>3</td><td>539</td><td>0.0</td><td>238761</td><td>268271</td><td>0</td><td>FALSE</td><td>FALSE</td><td>1</td><td>5.94017</td><td>12.4998</td><td>12.3832</td><td>6.29157</td><td>9.60035</td><td>1.60944</td><td>0.0</td></tr><tr><th>28</th><td>391</td><td>Subj11</td><td>f</td><td>22.0</td><td>5.0</td><td>21219</td><td>805</td><td>5</td><td>mid</td><td>9</td><td>G45</td><td>aan</td><td>1</td><td>1</td><td>1</td><td>3</td><td>539</td><td>0.0</td><td>238761</td><td>268271</td><td>0</td><td>FALSE</td><td>FALSE</td><td>1</td><td>5.96871</td><td>12.4998</td><td>12.3832</td><td>6.29157</td><td>9.96265</td><td>1.60944</td><td>0.0</td></tr><tr><th>29</th><td>312</td><td>Subj181</td><td>f</td><td>20.0</td><td>5.0</td><td>5172</td><td>612</td><td>2</td><td>mid</td><td>8</td><td>G55</td><td>aan</td><td>2</td><td>3</td><td>3</td><td>3</td><td>539</td><td>0.0</td><td>238761</td><td>268271</td><td>0</td><td>FALSE</td><td>FALSE</td><td>1</td><td>5.743</td><td>12.4998</td><td>12.3832</td><td>6.29157</td><td>8.55101</td><td>1.60944</td><td>0.0</td></tr><tr><th>30</th><td>391</td><td>Subj63</td><td>f</td><td>25.0</td><td>17.0</td><td>6470</td><td>469</td><td>5</td><td>mid</td><td>9</td><td>G54</td><td>aan</td><td>1</td><td>1</td><td>1</td><td>3</td><td>539</td><td>0.0</td><td>238761</td><td>268271</td><td>0</td><td>FALSE</td><td>FALSE</td><td>1</td><td>5.96871</td><td>12.4998</td><td>12.3832</td><td>6.29157</td><td>8.77493</td><td>2.83321</td><td>0.0</td></tr><tr><th>&vellip;</th><td>&vellip;</td><td>&vellip;</td><td>&vellip;</td><td>&vellip;</td><td>&vellip;</td><td>&vellip;</td><td>&vellip;</td><td>&vellip;</td><td>&vellip;</td><td>&vellip;</td><td>&vellip;</td><td>&vellip;</td><td>&vellip;</td><td>&vellip;</td><td>&vellip;</td><td>&vellip;</td><td>&vellip;</td><td>&vellip;</td><td>&vellip;</td><td>&vellip;</td><td>&vellip;</td><td>&vellip;</td><td>&vellip;</td><td>&vellip;</td><td>&vellip;</td><td>&vellip;</td><td>&vellip;</td><td>&vellip;</td><td>&vellip;</td><td>&vellip;</td><td>&vellip;</td></tr></tbody></table>"
      ],
      "text/plain": [
       "275996×31 DataFrames.DataFrame. Omitted printing of 25 columns\n",
       "│ Row    │ ReadingTime │ Subject │ Sex │ Age  │ NPoems │ MultipleChoiceRT │\n",
       "├────────┼─────────────┼─────────┼─────┼──────┼────────┼──────────────────┤\n",
       "│ 1      │ 340         │ Subj281 │ f   │ 22.0 │ 58.0   │ 9704             │\n",
       "│ 2      │ 344         │ Subj290 │ f   │ 30.0 │ 17.0   │ 25469            │\n",
       "│ 3      │ 453         │ Subj119 │ m   │ 21.0 │ 17.0   │ 23015            │\n",
       "│ 4      │ 290         │ Subj112 │ m   │ 23.0 │ 5.0    │ 7110             │\n",
       "│ 5      │ 343         │ Subj294 │ m   │ 21.0 │ 5.0    │ 12547            │\n",
       "│ 6      │ 296         │ Subj52  │ f   │ 22.0 │ 17.0   │ 15515            │\n",
       "│ 7      │ 321         │ Subj118 │ m   │ 48.0 │ 17.0   │ 9313             │\n",
       "│ 8      │ 290         │ Subj6   │ f   │ 19.0 │ 5.0    │ 15442            │\n",
       "│ 9      │ 1187        │ Subj48  │ f   │ 20.0 │ 5.0    │ 18047            │\n",
       "│ 10     │ 422         │ Subj324 │ f   │ 47.0 │ 5.0    │ 18922            │\n",
       "│ 11     │ 460         │ Subj180 │ m   │ 23.0 │ 5.0    │ 16764            │\n",
       "⋮\n",
       "│ 275985 │ 187         │ Subj212 │ f   │ 21.0 │ 5.0    │ 8641             │\n",
       "│ 275986 │ 890         │ Subj9   │ f   │ 22.0 │ 5.0    │ 22875            │\n",
       "│ 275987 │ 1203        │ Subj167 │ f   │ 51.0 │ 58.0   │ 26297            │\n",
       "│ 275988 │ 1412        │ Subj316 │ f   │ 23.0 │ 5.0    │ 25977            │\n",
       "│ 275989 │ 453         │ Subj238 │ m   │ 25.0 │ 5.0    │ 16813            │\n",
       "│ 275990 │ 301         │ Subj118 │ m   │ 48.0 │ 17.0   │ 9313             │\n",
       "│ 275991 │ 532         │ Subj57  │ m   │ 22.0 │ 5.0    │ 5203             │\n",
       "│ 275992 │ 440         │ Subj137 │ m   │ 25.0 │ 17.0   │ 14631            │\n",
       "│ 275993 │ 515         │ Subj282 │ m   │ 18.0 │ 5.0    │ 2547             │\n",
       "│ 275994 │ 266         │ Subj99  │ m   │ 32.0 │ 5.0    │ 8078             │\n",
       "│ 275995 │ 422         │ Subj86  │ f   │ 23.0 │ 17.0   │ 15844            │\n",
       "│ 275996 │ 282         │ Subj132 │ f   │ 24.0 │ 5.0    │ 4953             │"
      ]
     },
     "execution_count": 2,
     "metadata": {},
     "output_type": "execute_result"
    }
   ],
   "source": [
    "poems = rcopy(R\"RePsychLing::poems\")"
   ]
  },
  {
   "cell_type": "code",
   "execution_count": 3,
   "metadata": {},
   "outputs": [
    {
     "data": {
      "text/plain": [
       "(275996, 31)"
      ]
     },
     "execution_count": 3,
     "metadata": {},
     "output_type": "execute_result"
    }
   ],
   "source": [
    "size(poems)"
   ]
  },
  {
   "cell_type": "code",
   "execution_count": 4,
   "metadata": {},
   "outputs": [
    {
     "data": {
      "text/plain": [
       "31-element Array{Symbol,1}:\n",
       " :ReadingTime          \n",
       " :Subject              \n",
       " :Sex                  \n",
       " :Age                  \n",
       " :NPoems               \n",
       " :MultipleChoiceRT     \n",
       " :Trial                \n",
       " :NumberOfWordsIntoLine\n",
       " :PositionBegMidEnd    \n",
       " :SentenceLength       \n",
       " :Poem                 \n",
       " :Word                 \n",
       " :WordFrequencyInPoem  \n",
       " ⋮                     \n",
       " :WordFormFrequency    \n",
       " :NumberOfMeanings     \n",
       " :IsFunctionWord       \n",
       " :HasPunctuationMark   \n",
       " :NumberOfMorphemes    \n",
       " :LogReadingTime       \n",
       " :LogWordFormFrequency \n",
       " :LogLemmaFrequency    \n",
       " :LogFamilySize        \n",
       " :LogMultipleChoiceRT  \n",
       " :LogNPoems            \n",
       " :LogNumberOfMeanings  "
      ]
     },
     "execution_count": 4,
     "metadata": {},
     "output_type": "execute_result"
    }
   ],
   "source": [
    "names(poems)"
   ]
  },
  {
   "cell_type": "code",
   "execution_count": 5,
   "metadata": {},
   "outputs": [
    {
     "ename": "KeyError",
     "evalue": "KeyError: key :Lrt not found",
     "output_type": "error",
     "traceback": [
      "KeyError: key :Lrt not found",
      "",
      "Stacktrace:",
      " [1] getindex at ./dict.jl:478 [inlined]",
      " [2] getindex at /home/bates/.julia/packages/DataFrames/utxEh/src/other/index.jl:123 [inlined]",
      " [3] getindex(::DataFrames.DataFrame, ::Symbol) at /home/bates/.julia/packages/DataFrames/utxEh/src/dataframe/dataframe.jl:258",
      " [4] (::getfield(StatsModels, Symbol(\"##18#19\")){DataFrames.DataFrame})(::Symbol) at /home/bates/.julia/packages/StatsModels/AYB2E/src/modelframe.jl:145",
      " [5] iterate at ./generator.jl:47 [inlined]",
      " [6] _collect(::Array{Any,1}, ::Base.Generator{Array{Any,1},getfield(StatsModels, Symbol(\"##18#19\")){DataFrames.DataFrame}}, ::Base.EltypeUnknown, ::Base.HasShape{1}) at ./array.jl:632",
      " [7] collect_similar(::Array{Any,1}, ::Base.Generator{Array{Any,1},getfield(StatsModels, Symbol(\"##18#19\")){DataFrames.DataFrame}}) at ./array.jl:561",
      " [8] map(::Function, ::Array{Any,1}) at ./abstractarray.jl:1987",
      " [9] #ModelFrame#17(::Dict{Any,Any}, ::Type, ::StatsModels.Terms, ::DataFrames.DataFrame) at /home/bates/.julia/packages/StatsModels/AYB2E/src/modelframe.jl:145",
      " [10] Type at ./none:0 [inlined]",
      " [11] #ModelFrame#20 at /home/bates/.julia/packages/StatsModels/AYB2E/src/modelframe.jl:157 [inlined]",
      " [12] Type at ./none:0 [inlined]",
      " [13] #LinearMixedModel#12(::Array{Any,1}, ::Dict{Any,Any}, ::Distributions.Normal{Float64}, ::Type, ::StatsModels.Formula, ::DataFrames.DataFrame) at /home/bates/.julia/packages/MixedModels/3CQyw/src/pls.jl:63",
      " [14] LinearMixedModel(::StatsModels.Formula, ::DataFrames.DataFrame) at /home/bates/.julia/packages/MixedModels/3CQyw/src/pls.jl:63",
      " [15] top-level scope at In[5]:1"
     ]
    }
   ],
   "source": [
    "m0 = fit!(LinearMixedModel(@formula(Lrt ~ Fre + Mul + Age + (1|Poem)+ (1|Subject)+ (1|Word)), poems))"
   ]
  }
 ],
 "metadata": {
  "kernelspec": {
   "display_name": "Julia 1.0.0",
   "language": "julia",
   "name": "julia-1.0"
  },
  "language_info": {
   "file_extension": ".jl",
   "mimetype": "application/julia",
   "name": "julia",
   "version": "1.0.0"
  }
 },
 "nbformat": 4,
 "nbformat_minor": 1
}
