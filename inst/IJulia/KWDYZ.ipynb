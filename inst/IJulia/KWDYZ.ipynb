{
 "cells": [
  {
   "cell_type": "markdown",
   "metadata": {},
   "source": [
    "# RePsychLing Kleigl et al. (2011)\n",
    "\n",
    "This is a set of follow-up analyses to Kliegl et al. (2011).\n",
    "\n",
    "Reinhold Kliegl, Ping Wei, Michael Dambacher, Ming Yan, & Xiaolin Zhou (2011). Experimental Effects and Individual Differences in Linear Mixed Models: Estimating the Relation between Spatial, Object, and Attraction Effects in Visual Attention. Frontiers in Psychology, 1, 1-12.\n",
    "\n",
    "We are using the final set of data used in paper, that is after filtering a few outlier responses, defining `sdif` contrasts for factor `tar` and corresponding vector-valued contrasts `spt`, `c2`, `c3` from model matrix. The dataframe also includes transformations of the `rt` (`lrt=log(rt)`, `srt=sqrt(rt)`, `rrt=1000/rt` (note change in effect direction), `prt=rt^0.4242424` (acc to boxcox); `subj = factor(id)`)."
   ]
  },
  {
   "cell_type": "code",
   "execution_count": 10,
   "metadata": {},
   "outputs": [
    {
     "name": "stderr",
     "output_type": "stream",
     "text": [
      "┌ Info: Precompiling BenchmarkTools [6e4b80f9-dd63-53aa-95a3-0cdb28fa8baf]\n",
      "└ @ Base loading.jl:1186\n"
     ]
    }
   ],
   "source": [
    "using BenchmarkTools, LinearAlgebra, MixedModels, RCall"
   ]
  },
  {
   "cell_type": "code",
   "execution_count": 1,
   "metadata": {},
   "outputs": [
    {
     "data": {
      "text/html": [
       "<table class=\"data-frame\"><thead><tr><th></th><th>item</th><th>tar</th><th>dir</th><th>rt</th><th>subj</th><th>c1</th><th>c2</th><th>c3</th><th>srt</th><th>lrt</th><th>qrt</th><th>prt</th></tr></thead><tbody><tr><th>1</th><td>39</td><td>dod</td><td>hor</td><td>506.1</td><td>1</td><td>0.25</td><td>0.5</td><td>-0.75</td><td>0.5061</td><td>6.22673</td><td>22.4967</td><td>14.0362</td></tr><tr><th>2</th><td>52</td><td>dod</td><td>hor</td><td>489.6</td><td>1</td><td>0.25</td><td>0.5</td><td>-0.75</td><td>0.4896</td><td>6.19359</td><td>22.1269</td><td>13.8402</td></tr><tr><th>3</th><td>89</td><td>dod</td><td>hor</td><td>518.7</td><td>1</td><td>0.25</td><td>0.5</td><td>-0.75</td><td>0.5187</td><td>6.25133</td><td>22.775</td><td>14.1834</td></tr><tr><th>4</th><td>104</td><td>dod</td><td>hor</td><td>459.6</td><td>1</td><td>0.25</td><td>0.5</td><td>-0.75</td><td>0.4596</td><td>6.13036</td><td>21.4383</td><td>13.4739</td></tr><tr><th>5</th><td>120</td><td>dod</td><td>hor</td><td>384.2</td><td>1</td><td>0.25</td><td>0.5</td><td>-0.75</td><td>0.3842</td><td>5.95116</td><td>19.601</td><td>12.4876</td></tr><tr><th>6</th><td>161</td><td>dod</td><td>hor</td><td>470.0</td><td>1</td><td>0.25</td><td>0.5</td><td>-0.75</td><td>0.47</td><td>6.15273</td><td>21.6795</td><td>13.6024</td></tr><tr><th>7</th><td>194</td><td>dod</td><td>hor</td><td>422.0</td><td>1</td><td>0.25</td><td>0.5</td><td>-0.75</td><td>0.422</td><td>6.04501</td><td>20.5426</td><td>12.9947</td></tr><tr><th>8</th><td>248</td><td>dod</td><td>hor</td><td>462.8</td><td>1</td><td>0.25</td><td>0.5</td><td>-0.75</td><td>0.4628</td><td>6.13729</td><td>21.5128</td><td>13.5136</td></tr><tr><th>9</th><td>270</td><td>dod</td><td>hor</td><td>471.9</td><td>1</td><td>0.25</td><td>0.5</td><td>-0.75</td><td>0.4719</td><td>6.15677</td><td>21.7233</td><td>13.6257</td></tr><tr><th>10</th><td>277</td><td>dod</td><td>hor</td><td>445.5</td><td>1</td><td>0.25</td><td>0.5</td><td>-0.75</td><td>0.4455</td><td>6.0992</td><td>21.1069</td><td>13.297</td></tr><tr><th>11</th><td>289</td><td>dod</td><td>hor</td><td>399.1</td><td>1</td><td>0.25</td><td>0.5</td><td>-0.75</td><td>0.3991</td><td>5.98921</td><td>19.9775</td><td>12.6908</td></tr><tr><th>12</th><td>299</td><td>dod</td><td>hor</td><td>389.7</td><td>1</td><td>0.25</td><td>0.5</td><td>-0.75</td><td>0.3897</td><td>5.96538</td><td>19.7408</td><td>12.5631</td></tr><tr><th>13</th><td>304</td><td>dod</td><td>hor</td><td>409.8</td><td>1</td><td>0.25</td><td>0.5</td><td>-0.75</td><td>0.4098</td><td>6.01567</td><td>20.2435</td><td>12.834</td></tr><tr><th>14</th><td>320</td><td>dod</td><td>hor</td><td>370.1</td><td>1</td><td>0.25</td><td>0.5</td><td>-0.75</td><td>0.3701</td><td>5.91377</td><td>19.238</td><td>12.291</td></tr><tr><th>15</th><td>378</td><td>dod</td><td>hor</td><td>408.2</td><td>1</td><td>0.25</td><td>0.5</td><td>-0.75</td><td>0.4082</td><td>6.01176</td><td>20.204</td><td>12.8127</td></tr><tr><th>16</th><td>479</td><td>dod</td><td>hor</td><td>417.5</td><td>1</td><td>0.25</td><td>0.5</td><td>-0.75</td><td>0.4175</td><td>6.03428</td><td>20.4328</td><td>12.9358</td></tr><tr><th>17</th><td>494</td><td>dod</td><td>hor</td><td>316.7</td><td>1</td><td>0.25</td><td>0.5</td><td>-0.75</td><td>0.3167</td><td>5.75795</td><td>17.7961</td><td>11.5048</td></tr><tr><th>18</th><td>503</td><td>dod</td><td>hor</td><td>440.7</td><td>1</td><td>0.25</td><td>0.5</td><td>-0.75</td><td>0.4407</td><td>6.08836</td><td>20.9929</td><td>13.236</td></tr><tr><th>19</th><td>508</td><td>dod</td><td>hor</td><td>398.7</td><td>1</td><td>0.25</td><td>0.5</td><td>-0.75</td><td>0.3987</td><td>5.98821</td><td>19.9675</td><td>12.6854</td></tr><tr><th>20</th><td>554</td><td>dod</td><td>hor</td><td>348.7</td><td>1</td><td>0.25</td><td>0.5</td><td>-0.75</td><td>0.3487</td><td>5.85421</td><td>18.6735</td><td>11.9844</td></tr><tr><th>21</th><td>587</td><td>dod</td><td>hor</td><td>275.0</td><td>1</td><td>0.25</td><td>0.5</td><td>-0.75</td><td>0.275</td><td>5.61677</td><td>16.5831</td><td>10.836</td></tr><tr><th>22</th><td>590</td><td>dod</td><td>hor</td><td>411.2</td><td>1</td><td>0.25</td><td>0.5</td><td>-0.75</td><td>0.4112</td><td>6.01908</td><td>20.2781</td><td>12.8526</td></tr><tr><th>23</th><td>4</td><td>dod</td><td>ver</td><td>525.7</td><td>1</td><td>0.25</td><td>0.5</td><td>-0.75</td><td>0.5257</td><td>6.26473</td><td>22.9281</td><td>14.2643</td></tr><tr><th>24</th><td>40</td><td>dod</td><td>ver</td><td>466.7</td><td>1</td><td>0.25</td><td>0.5</td><td>-0.75</td><td>0.4667</td><td>6.14569</td><td>21.6032</td><td>13.5618</td></tr><tr><th>25</th><td>79</td><td>dod</td><td>ver</td><td>469.4</td><td>1</td><td>0.25</td><td>0.5</td><td>-0.75</td><td>0.4694</td><td>6.15146</td><td>21.6656</td><td>13.595</td></tr><tr><th>26</th><td>116</td><td>dod</td><td>ver</td><td>484.2</td><td>1</td><td>0.25</td><td>0.5</td><td>-0.75</td><td>0.4842</td><td>6.1825</td><td>22.0045</td><td>13.7753</td></tr><tr><th>27</th><td>164</td><td>dod</td><td>ver</td><td>518.2</td><td>1</td><td>0.25</td><td>0.5</td><td>-0.75</td><td>0.5182</td><td>6.25036</td><td>22.764</td><td>14.1776</td></tr><tr><th>28</th><td>167</td><td>dod</td><td>ver</td><td>519.8</td><td>1</td><td>0.25</td><td>0.5</td><td>-0.75</td><td>0.5198</td><td>6.25344</td><td>22.7991</td><td>14.1962</td></tr><tr><th>29</th><td>169</td><td>dod</td><td>ver</td><td>505.8</td><td>1</td><td>0.25</td><td>0.5</td><td>-0.75</td><td>0.5058</td><td>6.22614</td><td>22.49</td><td>14.0327</td></tr><tr><th>30</th><td>177</td><td>dod</td><td>ver</td><td>465.0</td><td>1</td><td>0.25</td><td>0.5</td><td>-0.75</td><td>0.465</td><td>6.14204</td><td>21.5639</td><td>13.5408</td></tr><tr><th>&vellip;</th><td>&vellip;</td><td>&vellip;</td><td>&vellip;</td><td>&vellip;</td><td>&vellip;</td><td>&vellip;</td><td>&vellip;</td><td>&vellip;</td><td>&vellip;</td><td>&vellip;</td><td>&vellip;</td><td>&vellip;</td></tr></tbody></table>"
      ],
      "text/plain": [
       "28710×12 DataFrame. Omitted printing of 3 columns\n",
       "│ Row   │ item │ tar │ dir │ rt    │ subj │ c1    │ c2   │ c3    │ srt    │\n",
       "├───────┼──────┼─────┼─────┼───────┼──────┼───────┼──────┼───────┼────────┤\n",
       "│ 1     │ 39   │ dod │ hor │ 506.1 │ 1    │ 0.25  │ 0.5  │ -0.75 │ 0.5061 │\n",
       "│ 2     │ 52   │ dod │ hor │ 489.6 │ 1    │ 0.25  │ 0.5  │ -0.75 │ 0.4896 │\n",
       "│ 3     │ 89   │ dod │ hor │ 518.7 │ 1    │ 0.25  │ 0.5  │ -0.75 │ 0.5187 │\n",
       "│ 4     │ 104  │ dod │ hor │ 459.6 │ 1    │ 0.25  │ 0.5  │ -0.75 │ 0.4596 │\n",
       "│ 5     │ 120  │ dod │ hor │ 384.2 │ 1    │ 0.25  │ 0.5  │ -0.75 │ 0.3842 │\n",
       "│ 6     │ 161  │ dod │ hor │ 470.0 │ 1    │ 0.25  │ 0.5  │ -0.75 │ 0.47   │\n",
       "│ 7     │ 194  │ dod │ hor │ 422.0 │ 1    │ 0.25  │ 0.5  │ -0.75 │ 0.422  │\n",
       "│ 8     │ 248  │ dod │ hor │ 462.8 │ 1    │ 0.25  │ 0.5  │ -0.75 │ 0.4628 │\n",
       "│ 9     │ 270  │ dod │ hor │ 471.9 │ 1    │ 0.25  │ 0.5  │ -0.75 │ 0.4719 │\n",
       "│ 10    │ 277  │ dod │ hor │ 445.5 │ 1    │ 0.25  │ 0.5  │ -0.75 │ 0.4455 │\n",
       "│ 11    │ 289  │ dod │ hor │ 399.1 │ 1    │ 0.25  │ 0.5  │ -0.75 │ 0.3991 │\n",
       "⋮\n",
       "│ 28699 │ 566  │ val │ ver │ 349.4 │ 61   │ -0.75 │ -0.5 │ 0.25  │ 0.3494 │\n",
       "│ 28700 │ 577  │ val │ ver │ 577.8 │ 61   │ -0.75 │ -0.5 │ 0.25  │ 0.5778 │\n",
       "│ 28701 │ 578  │ val │ ver │ 334.7 │ 61   │ -0.75 │ -0.5 │ 0.25  │ 0.3347 │\n",
       "│ 28702 │ 580  │ val │ ver │ 346.2 │ 61   │ -0.75 │ -0.5 │ 0.25  │ 0.3462 │\n",
       "│ 28703 │ 581  │ val │ ver │ 302.3 │ 61   │ -0.75 │ -0.5 │ 0.25  │ 0.3023 │\n",
       "│ 28704 │ 586  │ val │ ver │ 328.3 │ 61   │ -0.75 │ -0.5 │ 0.25  │ 0.3283 │\n",
       "│ 28705 │ 591  │ val │ ver │ 353.7 │ 61   │ -0.75 │ -0.5 │ 0.25  │ 0.3537 │\n",
       "│ 28706 │ 592  │ val │ ver │ 376.0 │ 61   │ -0.75 │ -0.5 │ 0.25  │ 0.376  │\n",
       "│ 28707 │ 593  │ val │ ver │ 295.9 │ 61   │ -0.75 │ -0.5 │ 0.25  │ 0.2959 │\n",
       "│ 28708 │ 596  │ val │ ver │ 254.3 │ 61   │ -0.75 │ -0.5 │ 0.25  │ 0.2543 │\n",
       "│ 28709 │ 600  │ val │ ver │ 282.6 │ 61   │ -0.75 │ -0.5 │ 0.25  │ 0.2826 │\n",
       "│ 28710 │ 602  │ val │ ver │ 450.5 │ 61   │ -0.75 │ -0.5 │ 0.25  │ 0.4505 │"
      ]
     },
     "execution_count": 1,
     "metadata": {},
     "output_type": "execute_result"
    }
   ],
   "source": [
    "kwdyz = rcopy(R\"RePsychLing::KWDYZ\")"
   ]
  },
  {
   "cell_type": "markdown",
   "metadata": {},
   "source": [
    "## Models\n",
    "\n",
    "### Maximal linear mixed model (_maxLMM_) \n",
    "\n",
    "The maximal model (_maxLMM_) reported in this paper is actually an overparameterized/degenerate model. Here we show how to identify the overparameterization and how we tried to deal with it."
   ]
  },
  {
   "cell_type": "code",
   "execution_count": 3,
   "metadata": {},
   "outputs": [
    {
     "data": {
      "text/plain": [
       "Linear mixed model fit by maximum likelihood\n",
       " Formula: rt ~ 1 + c1 + c2 + c3 + ((1 + c1 + c2 + c3) | subj)\n",
       "     logLik        -2 logLik          AIC             BIC       \n",
       " -1.62904775×10⁵  3.25809549×10⁵  3.25839549×10⁵  3.25963524×10⁵\n",
       "\n",
       "Variance components:\n",
       "              Column    Variance   Std.Dev.    Corr.\n",
       " subj     (Intercept)  3046.68856 55.1968166\n",
       "          c1            540.42902 23.2471292  0.60\n",
       "          c2            115.67074 10.7550333 -0.13 -0.01\n",
       "          c3             90.40940  9.5083858 -0.25 -0.85  0.36\n",
       " Residual              4876.90461 69.8348381\n",
       " Number of obs: 28710; levels of grouping factors: 61\n",
       "\n",
       "  Fixed-effects parameters:\n",
       "             Estimate Std.Error z value P(>|z|)\n",
       "(Intercept)   389.734   7.09094 54.9622  <1e-99\n",
       "c1            33.7817   3.28724 10.2766  <1e-24\n",
       "c2            13.9852   2.30581 6.06521   <1e-8\n",
       "c3            2.74699   2.21412 1.24067  0.2147\n"
      ]
     },
     "execution_count": 3,
     "metadata": {},
     "output_type": "execute_result"
    }
   ],
   "source": [
    "m0 = fit!(LinearMixedModel(@formula(rt ~ 1+c1+c2+c3 + (1+c1+c2+c3|subj)), kwdyz))"
   ]
  },
  {
   "cell_type": "code",
   "execution_count": 11,
   "metadata": {},
   "outputs": [
    {
     "name": "stdout",
     "output_type": "stream",
     "text": [
      "  213.369 ms (6160176 allocations: 109.23 MiB)\n"
     ]
    }
   ],
   "source": [
    "@btime fit!(LinearMixedModel(@formula(rt ~ 1+c1+c2+c3 + (1+c1+c2+c3|subj)), kwdyz));"
   ]
  },
  {
   "cell_type": "code",
   "execution_count": 7,
   "metadata": {},
   "outputs": [
    {
     "data": {
      "text/plain": [
       "4×4 LowerTriangular{Float64,Array{Float64,2}}:\n",
       "  0.790391     ⋅         ⋅          ⋅ \n",
       "  0.201019    0.26534    ⋅          ⋅ \n",
       " -0.0202177   0.013757  0.152053    ⋅ \n",
       " -0.0338419  -0.119135  0.0565678  0.0"
      ]
     },
     "execution_count": 7,
     "metadata": {},
     "output_type": "execute_result"
    }
   ],
   "source": [
    "Λ = getΛ(m0)[1]"
   ]
  },
  {
   "cell_type": "code",
   "execution_count": 8,
   "metadata": {},
   "outputs": [
    {
     "name": "stdout",
     "output_type": "stream",
     "text": [
      "[0.819923, 0.282066, 0.161098, 0.0]"
     ]
    }
   ],
   "source": [
    "show(svdvals(Λ))"
   ]
  },
  {
   "cell_type": "markdown",
   "metadata": {},
   "source": [
    "The singular value decomposition (svd) and the form of the $\\Lambda$ matrix itself show that the estimated covariance matrix from the unconditional distribution of the random effects is singular.\n",
    "\n",
    "### Zero-correlation parameter linear mixed model (zcppLMM)\n",
    "\n",
    "One option to reduce the complexity of the _maxLMM_ is to force correlation parameters to zero."
   ]
  },
  {
   "cell_type": "code",
   "execution_count": 12,
   "metadata": {},
   "outputs": [
    {
     "name": "stdout",
     "output_type": "stream",
     "text": [
      "  0.401214 seconds (6.21 M allocations: 112.292 MiB, 30.19% gc time)\n"
     ]
    },
    {
     "data": {
      "text/plain": [
       "Linear mixed model fit by maximum likelihood\n",
       " Formula: rt ~ 1 + c1 + c2 + c3 + (1 | subj) + ((0 + c1) | subj) + ((0 + c2) | subj) + ((0 + c3) | subj)\n",
       "    logLik      -2 logLik        AIC           BIC      \n",
       " -1.629243×10⁵ 3.2584861×10⁵ 3.2586661×10⁵ 3.2594099×10⁵\n",
       "\n",
       "Variance components:\n",
       "              Column    Variance   Std.Dev.   Corr.\n",
       " subj     (Intercept)  2993.35621 54.711573\n",
       "          c1            574.62586 23.971355  0.00\n",
       "          c2            108.01087 10.392828  0.00  0.00\n",
       "          c3             74.11924  8.609253  0.00  0.00  0.00\n",
       " Residual              4877.41513 69.838493\n",
       " Number of obs: 28710; levels of grouping factors: 61\n",
       "\n",
       "  Fixed-effects parameters:\n",
       "             Estimate Std.Error z value P(>|z|)\n",
       "(Intercept)   389.728   7.02902 55.4455  <1e-99\n",
       "c1             33.774   3.37153 10.0174  <1e-22\n",
       "c2            14.0033   2.27853 6.14575   <1e-9\n",
       "c3            2.78726   2.15317 1.29449  0.1955\n"
      ]
     },
     "execution_count": 12,
     "metadata": {},
     "output_type": "execute_result"
    }
   ],
   "source": [
    "@time m1 = fit!(LinearMixedModel(@formula(rt ~ 1+c1+c2+c3 + \n",
    "    (1|subj)+(0+c1|subj)+(0+c2|subj)+(0+c3|subj)), kwdyz))"
   ]
  },
  {
   "cell_type": "code",
   "execution_count": 16,
   "metadata": {},
   "outputs": [
    {
     "data": {
      "text/html": [
       "<table class=\"data-frame\"><thead><tr><th></th><th>Df</th><th>Deviance</th><th>Chisq</th><th>pval</th></tr></thead><tbody><tr><th>1</th><td>9</td><td>3.25849e5</td><td>NaN</td><td>NaN</td></tr><tr><th>2</th><td>15</td><td>3.2581e5</td><td>39.0579</td><td>6.97303e-7</td></tr></tbody></table>"
      ],
      "text/plain": [
       "2×4 DataFrame\n",
       "│ Row │ Df │ Deviance  │ Chisq   │ pval       │\n",
       "├─────┼────┼───────────┼─────────┼────────────┤\n",
       "│ 1   │ 9  │ 3.25849e5 │ NaN     │ NaN        │\n",
       "│ 2   │ 15 │ 3.2581e5  │ 39.0579 │ 6.97303e-7 │"
      ]
     },
     "execution_count": 16,
     "metadata": {},
     "output_type": "execute_result"
    }
   ],
   "source": [
    "MixedModels.lrt(m0, m1)"
   ]
  },
  {
   "cell_type": "markdown",
   "metadata": {},
   "source": [
    "There is no exact singularity for the _zcpLMM_. This model, however, fits significantly worse than _maxLMM_. Thus, removing all correlation parameters was too much of a reduction in model complexity. Before checking invidual correlation parameters for inclusion, we check whether any of the variance components are not supported b the data. "
   ]
  },
  {
   "cell_type": "code",
   "execution_count": 17,
   "metadata": {},
   "outputs": [
    {
     "data": {
      "text/plain": [
       "Linear mixed model fit by maximum likelihood\n",
       " Formula: rt ~ 1 + c1 + c2 + c3 + ((1 + c1 + c2) | subj)\n",
       "     logLik       -2 logLik         AIC            BIC      \n",
       " -1.6291389×10⁵  3.2582779×10⁵  3.2584979×10⁵   3.259407×10⁵\n",
       "\n",
       "Variance components:\n",
       "              Column    Variance   Std.Dev.   Corr.\n",
       " subj     (Intercept)  3046.26125 55.192946\n",
       "          c1            536.96391 23.172482  0.61\n",
       "          c2             96.77148  9.837249 -0.02  0.42\n",
       " Residual              4881.76064 69.869597\n",
       " Number of obs: 28710; levels of grouping factors: 61\n",
       "\n",
       "  Fixed-effects parameters:\n",
       "             Estimate Std.Error z value P(>|z|)\n",
       "(Intercept)   389.734   7.09047 54.9659  <1e-99\n",
       "c1            33.7795   3.27889 10.3021  <1e-24\n",
       "c2            14.0089   2.23828 6.25877   <1e-9\n",
       "c3            2.78883   1.85014 1.50736  0.1317\n"
      ]
     },
     "execution_count": 17,
     "metadata": {},
     "output_type": "execute_result"
    }
   ],
   "source": [
    "m2 = fit!(LinearMixedModel(@formula(rt ~ 1+c1+c2+c3 + (1+c1+c2|subj)),kwdyz))"
   ]
  },
  {
   "cell_type": "code",
   "execution_count": 18,
   "metadata": {},
   "outputs": [
    {
     "data": {
      "text/html": [
       "<table class=\"data-frame\"><thead><tr><th></th><th>Df</th><th>Deviance</th><th>Chisq</th><th>pval</th></tr></thead><tbody><tr><th>1</th><td>11</td><td>3.25828e5</td><td>NaN</td><td>NaN</td></tr><tr><th>2</th><td>15</td><td>3.2581e5</td><td>18.2388</td><td>0.00110827</td></tr></tbody></table>"
      ],
      "text/plain": [
       "2×4 DataFrame\n",
       "│ Row │ Df │ Deviance  │ Chisq   │ pval       │\n",
       "├─────┼────┼───────────┼─────────┼────────────┤\n",
       "│ 1   │ 11 │ 3.25828e5 │ NaN     │ NaN        │\n",
       "│ 2   │ 15 │ 3.2581e5  │ 18.2388 │ 0.00110827 │"
      ]
     },
     "execution_count": 18,
     "metadata": {},
     "output_type": "execute_result"
    }
   ],
   "source": [
    "MixedModels.lrt(m2,m0)  # still highly significant change from m0"
   ]
  },
  {
   "cell_type": "code",
   "execution_count": 19,
   "metadata": {},
   "outputs": [
    {
     "data": {
      "text/plain": [
       "3×3 LowerTriangular{Float64,Array{Float64,2}}:\n",
       "  0.789942     ⋅          ⋅      \n",
       "  0.200844    0.263923    ⋅      \n",
       " -0.00303928  0.0768552  0.117928"
      ]
     },
     "execution_count": 19,
     "metadata": {},
     "output_type": "execute_result"
    }
   ],
   "source": [
    "getΛ(m2)[1]"
   ]
  },
  {
   "cell_type": "markdown",
   "metadata": {},
   "source": [
    "###  Using lrt=log(rt) or prt= rt^power (acc Box-Cox)"
   ]
  },
  {
   "cell_type": "code",
   "execution_count": 20,
   "metadata": {},
   "outputs": [
    {
     "data": {
      "text/plain": [
       "Linear mixed model fit by maximum likelihood\n",
       " Formula: lrt ~ 1 + c1 + c2 + c3 + ((1 + c1 + c2 + c3) | subj)\n",
       "     logLik        -2 logLik          AIC             BIC       \n",
       "  6.39118687×10³ -1.27823737×10⁴ -1.27523737×10⁴ -1.26283987×10⁴\n",
       "\n",
       "Variance components:\n",
       "              Column     Variance     Std.Dev.    Corr.\n",
       " subj     (Intercept)  0.0207649899 0.144100624\n",
       "          c1           0.0033846953 0.058178134  0.48\n",
       "          c2           0.0007529822 0.027440521 -0.24 -0.15\n",
       "          c3           0.0006220570 0.024941070 -0.30 -0.93  0.43\n",
       " Residual              0.0368543388 0.191974839\n",
       " Number of obs: 28710; levels of grouping factors: 61\n",
       "\n",
       "  Fixed-effects parameters:\n",
       "              Estimate  Std.Error z value P(>|z|)\n",
       "(Intercept)    5.93583  0.0185188  320.53  <1e-99\n",
       "c1           0.0877736 0.00837833 10.4763  <1e-24\n",
       "c2           0.0366027 0.00617995 5.92281   <1e-8\n",
       "c3           0.0086108 0.00600357 1.43428  0.1515\n"
      ]
     },
     "execution_count": 20,
     "metadata": {},
     "output_type": "execute_result"
    }
   ],
   "source": [
    "m2i = fit!(LinearMixedModel(@formula(lrt ~ 1 + c1 + c2 + c3 + (1 + c1 + c2 + c3 | subj)),kwdyz))"
   ]
  },
  {
   "cell_type": "code",
   "execution_count": 21,
   "metadata": {},
   "outputs": [
    {
     "data": {
      "text/plain": [
       "4×4 LowerTriangular{Float64,Array{Float64,2}}:\n",
       "  0.750622     ⋅          ⋅          ⋅ \n",
       "  0.144551    0.266355    ⋅          ⋅ \n",
       " -0.0345388  -0.0062691  0.138561    ⋅ \n",
       " -0.039185   -0.116143   0.0430596  0.0"
      ]
     },
     "execution_count": 21,
     "metadata": {},
     "output_type": "execute_result"
    }
   ],
   "source": [
    "getΛ(m2i)[1]"
   ]
  },
  {
   "cell_type": "code",
   "execution_count": 22,
   "metadata": {},
   "outputs": [
    {
     "data": {
      "text/plain": [
       "Linear mixed model fit by maximum likelihood\n",
       " Formula: prt ~ 1 + c1 + c2 + c3 + ((1 + c1 + c2 + c3) | subj)\n",
       "     logLik        -2 logLik          AIC             BIC       \n",
       " -4.03649564×10⁴  8.07299127×10⁴  8.07599127×10⁴  8.08838877×10⁴\n",
       "\n",
       "Variance components:\n",
       "              Column     Variance   Std.Dev.    Corr.\n",
       " subj     (Intercept)  0.573062576 0.75700897\n",
       "          c1           0.096787923 0.31110757  0.53\n",
       "          c2           0.020716390 0.14393189 -0.19 -0.09\n",
       "          c3           0.016825331 0.12971249 -0.28 -0.90  0.40\n",
       " Residual              0.957026881 0.97827751\n",
       " Number of obs: 28710; levels of grouping factors: 61\n",
       "\n",
       "  Fixed-effects parameters:\n",
       "              Estimate Std.Error z value P(>|z|)\n",
       "(Intercept)    12.4741 0.0972643  128.25  <1e-99\n",
       "c1            0.463096 0.0443696 10.4372  <1e-24\n",
       "c2            0.192511 0.0317936 6.05504   <1e-8\n",
       "c3           0.0423166  0.030773 1.37512  0.1691\n"
      ]
     },
     "execution_count": 22,
     "metadata": {},
     "output_type": "execute_result"
    }
   ],
   "source": [
    "m2j = fit!(LinearMixedModel(@formula(prt ~ 1 + c1 + c2 + c3 + (1 + c1 + c2 + c3 | subj)),kwdyz))"
   ]
  },
  {
   "cell_type": "code",
   "execution_count": 23,
   "metadata": {},
   "outputs": [
    {
     "data": {
      "text/plain": [
       "4×4 LowerTriangular{Float64,Array{Float64,2}}:\n",
       "  0.773818     ⋅           ⋅          ⋅ \n",
       "  0.169881    0.268839     ⋅          ⋅ \n",
       " -0.0286692   0.00318065  0.144273    ⋅ \n",
       " -0.0374256  -0.117444    0.0488586  0.0"
      ]
     },
     "execution_count": 23,
     "metadata": {},
     "output_type": "execute_result"
    }
   ],
   "source": [
    "getΛ(m2j)[1]"
   ]
  }
 ],
 "metadata": {
  "kernelspec": {
   "display_name": "Julia 1.0.0",
   "language": "julia",
   "name": "julia-1.0"
  },
  "language_info": {
   "file_extension": ".jl",
   "mimetype": "application/julia",
   "name": "julia",
   "version": "1.0.0"
  }
 },
 "nbformat": 4,
 "nbformat_minor": 1
}
