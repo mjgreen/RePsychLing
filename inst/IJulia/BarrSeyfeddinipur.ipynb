{
 "cells": [
  {
   "cell_type": "markdown",
   "metadata": {},
   "source": [
    "# RePsychLing Barr and Seyfeddinipur (2010)\n",
    "\n",
    "## Data from Barr and Seyfeddinipur (2010)\n",
    "\n",
    "Some of the data from Barr and Seyfeddinipur (2010) are available as the data frame `bs10` in the `RePsychLing` package for [R](http://www.r-project.org)"
   ]
  },
  {
   "cell_type": "code",
   "execution_count": 1,
   "metadata": {},
   "outputs": [],
   "source": [
    "using CSV, MixedModels, RCall"
   ]
  },
  {
   "cell_type": "code",
   "execution_count": 2,
   "metadata": {},
   "outputs": [
    {
     "data": {
      "text/html": [
       "<table class=\"data-frame\"><thead><tr><th></th><th>subj</th><th>item</th><th>dif</th><th>S</th><th>F</th><th>SF</th></tr></thead><tbody><tr><th>1</th><td>1</td><td>12</td><td>0.0</td><td>-1</td><td>-1.0</td><td>1.0</td></tr><tr><th>2</th><td>1</td><td>3</td><td>0.0</td><td>1</td><td>1.0</td><td>1.0</td></tr><tr><th>3</th><td>1</td><td>6</td><td>0.0</td><td>1</td><td>-1.0</td><td>-1.0</td></tr><tr><th>4</th><td>1</td><td>9</td><td>0.0</td><td>-1</td><td>-1.0</td><td>1.0</td></tr><tr><th>5</th><td>1</td><td>11</td><td>0.0</td><td>-1</td><td>1.0</td><td>-1.0</td></tr><tr><th>6</th><td>1</td><td>10</td><td>0.55</td><td>-1</td><td>-1.0</td><td>1.0</td></tr><tr><th>7</th><td>1</td><td>5</td><td>1.0</td><td>-1</td><td>1.0</td><td>-1.0</td></tr><tr><th>8</th><td>1</td><td>7</td><td>0.0</td><td>1</td><td>-1.0</td><td>-1.0</td></tr><tr><th>9</th><td>1</td><td>2</td><td>-0.8</td><td>1</td><td>1.0</td><td>1.0</td></tr><tr><th>10</th><td>1</td><td>1</td><td>0.0</td><td>1</td><td>1.0</td><td>1.0</td></tr><tr><th>11</th><td>1</td><td>8</td><td>0.0</td><td>1</td><td>-1.0</td><td>-1.0</td></tr><tr><th>12</th><td>1</td><td>4</td><td>1.14</td><td>-1</td><td>1.0</td><td>-1.0</td></tr><tr><th>13</th><td>2</td><td>12</td><td>0.0</td><td>1</td><td>-1.0</td><td>-1.0</td></tr><tr><th>14</th><td>2</td><td>3</td><td>0.0</td><td>-1</td><td>1.0</td><td>-1.0</td></tr><tr><th>15</th><td>2</td><td>9</td><td>0.0</td><td>1</td><td>-1.0</td><td>-1.0</td></tr><tr><th>16</th><td>2</td><td>11</td><td>0.0</td><td>1</td><td>1.0</td><td>1.0</td></tr><tr><th>17</th><td>2</td><td>6</td><td>0.0</td><td>-1</td><td>-1.0</td><td>1.0</td></tr><tr><th>18</th><td>2</td><td>2</td><td>0.0</td><td>-1</td><td>1.0</td><td>-1.0</td></tr><tr><th>19</th><td>2</td><td>8</td><td>-0.39</td><td>-1</td><td>-1.0</td><td>1.0</td></tr><tr><th>20</th><td>2</td><td>5</td><td>-0.01</td><td>1</td><td>1.0</td><td>1.0</td></tr><tr><th>21</th><td>2</td><td>4</td><td>0.0</td><td>1</td><td>1.0</td><td>1.0</td></tr><tr><th>22</th><td>2</td><td>7</td><td>0.0</td><td>-1</td><td>-1.0</td><td>1.0</td></tr><tr><th>23</th><td>2</td><td>1</td><td>1.0</td><td>-1</td><td>1.0</td><td>-1.0</td></tr><tr><th>24</th><td>2</td><td>10</td><td>0.05</td><td>1</td><td>-1.0</td><td>-1.0</td></tr><tr><th>25</th><td>3</td><td>12</td><td>0.0</td><td>-1</td><td>1.0</td><td>-1.0</td></tr><tr><th>26</th><td>3</td><td>7</td><td>0.0</td><td>1</td><td>1.0</td><td>1.0</td></tr><tr><th>27</th><td>3</td><td>1</td><td>0.0</td><td>1</td><td>-1.0</td><td>-1.0</td></tr><tr><th>28</th><td>3</td><td>6</td><td>0.15</td><td>1</td><td>1.0</td><td>1.0</td></tr><tr><th>29</th><td>3</td><td>2</td><td>0.0</td><td>1</td><td>-1.0</td><td>-1.0</td></tr><tr><th>30</th><td>3</td><td>3</td><td>0.0</td><td>1</td><td>-1.0</td><td>-1.0</td></tr><tr><th>&vellip;</th><td>&vellip;</td><td>&vellip;</td><td>&vellip;</td><td>&vellip;</td><td>&vellip;</td><td>&vellip;</td></tr></tbody></table>"
      ],
      "text/plain": [
       "1104×6 DataFrames.DataFrame\n",
       "│ Row  │ subj │ item │ dif  │ S  │ F    │ SF   │\n",
       "├──────┼──────┼──────┼──────┼────┼──────┼──────┤\n",
       "│ 1    │ 1    │ 12   │ 0.0  │ -1 │ -1.0 │ 1.0  │\n",
       "│ 2    │ 1    │ 3    │ 0.0  │ 1  │ 1.0  │ 1.0  │\n",
       "│ 3    │ 1    │ 6    │ 0.0  │ 1  │ -1.0 │ -1.0 │\n",
       "│ 4    │ 1    │ 9    │ 0.0  │ -1 │ -1.0 │ 1.0  │\n",
       "│ 5    │ 1    │ 11   │ 0.0  │ -1 │ 1.0  │ -1.0 │\n",
       "│ 6    │ 1    │ 10   │ 0.55 │ -1 │ -1.0 │ 1.0  │\n",
       "│ 7    │ 1    │ 5    │ 1.0  │ -1 │ 1.0  │ -1.0 │\n",
       "│ 8    │ 1    │ 7    │ 0.0  │ 1  │ -1.0 │ -1.0 │\n",
       "│ 9    │ 1    │ 2    │ -0.8 │ 1  │ 1.0  │ 1.0  │\n",
       "│ 10   │ 1    │ 1    │ 0.0  │ 1  │ 1.0  │ 1.0  │\n",
       "│ 11   │ 1    │ 8    │ 0.0  │ 1  │ -1.0 │ -1.0 │\n",
       "⋮\n",
       "│ 1093 │ 92   │ 8    │ 0.61 │ -1 │ 1.0  │ -1.0 │\n",
       "│ 1094 │ 92   │ 7    │ 1.99 │ -1 │ 1.0  │ -1.0 │\n",
       "│ 1095 │ 92   │ 11   │ 0.0  │ 1  │ -1.0 │ -1.0 │\n",
       "│ 1096 │ 92   │ 4    │ 0.0  │ 1  │ -1.0 │ -1.0 │\n",
       "│ 1097 │ 92   │ 3    │ 0.97 │ -1 │ -1.0 │ 1.0  │\n",
       "│ 1098 │ 92   │ 6    │ 2.0  │ -1 │ 1.0  │ -1.0 │\n",
       "│ 1099 │ 92   │ 5    │ 0.95 │ 1  │ -1.0 │ -1.0 │\n",
       "│ 1100 │ 92   │ 9    │ 0.0  │ 1  │ 1.0  │ 1.0  │\n",
       "│ 1101 │ 92   │ 10   │ 0.0  │ 1  │ 1.0  │ 1.0  │\n",
       "│ 1102 │ 92   │ 1    │ 0.0  │ -1 │ -1.0 │ 1.0  │\n",
       "│ 1103 │ 92   │ 12   │ 0.0  │ 1  │ 1.0  │ 1.0  │\n",
       "│ 1104 │ 92   │ 2    │ 0.0  │ -1 │ -1.0 │ 1.0  │"
      ]
     },
     "execution_count": 2,
     "metadata": {},
     "output_type": "execute_result"
    }
   ],
   "source": [
    "bs10 = rcopy(R\"RePsychLing::bs10\")"
   ]
  },
  {
   "cell_type": "markdown",
   "metadata": {},
   "source": [
    "As with other data frames in this package, the subject and item factors are called `subj` and `item`.  The response being modelled, `dif`, variable is the difference in two response times.\n",
    "\n",
    "The two experimental factors `S` and `F`, both at two levels, are represented in the -1/+1 encoding, as is their interaction, `SF`.  The `S` factor is the speaker condition with levels -1 for the same speaker in both trials and +1 for different speakers.  The `F` factor is the filler condition with levels -1 for `NS` and +1 for `FP`.\n",
    "\n",
    "### Maximal linear mixed model (_maxLMM_)\n",
    "\n",
    "The maximal model has a full factorial design `1+S+F+SF` for the fixed-effects and for potentially correlated vector-valued random effects for the subject and the item."
   ]
  },
  {
   "cell_type": "code",
   "execution_count": 3,
   "metadata": {},
   "outputs": [
    {
     "data": {
      "text/plain": [
       "Linear mixed model fit by maximum likelihood\n",
       " Formula: dif ~ 1 + S + F + SF + ((1 + S + F + SF) | subj) + ((1 + S + F + SF) | item)\n",
       "   logLik   -2 logLik     AIC        BIC    \n",
       " -515.47765 1030.95530 1080.95530 1206.12268\n",
       "\n",
       "Variance components:\n",
       "              Column      Variance     Std.Dev.    Corr.\n",
       " subj     (Intercept)  0.01339382113 0.115731677\n",
       "          S            0.01121585244 0.105904922 -0.56\n",
       "          F            0.00337274967 0.058075379  0.99 -0.66\n",
       "          SF           0.00519178567 0.072054047 -0.13  0.89 -0.26\n",
       " item     (Intercept)  0.00030484023 0.017459674\n",
       "          S            0.00007929355 0.008904693 -1.00\n",
       "          F            0.00013568479 0.011648382  1.00 -1.00\n",
       "          SF           0.00008328193 0.009125893 -1.00  1.00 -1.00\n",
       " Residual              0.12777875824 0.357461548\n",
       " Number of obs: 1104; levels of grouping factors: 92, 12\n",
       "\n",
       "  Fixed-effects parameters:\n",
       "               Estimate Std.Error  z value P(>|z|)\n",
       "(Intercept)    0.039221 0.0169331  2.31623  0.0205\n",
       "S            -0.0174094 0.0156288 -1.11393  0.2653\n",
       "F             0.0174819 0.0127949  1.36632  0.1718\n",
       "SF           -0.0322645 0.0133834 -2.41079  0.0159\n"
      ]
     },
     "execution_count": 3,
     "metadata": {},
     "output_type": "execute_result"
    }
   ],
   "source": [
    "m0 = fit!(LinearMixedModel(@formula(dif ~ 1+S+F+SF + (1+S+F+SF|subj) + (1+S+F+SF|item)), bs10))"
   ]
  },
  {
   "cell_type": "code",
   "execution_count": 4,
   "metadata": {},
   "outputs": [
    {
     "name": "stdout",
     "output_type": "stream",
     "text": [
      "  0.216930 seconds (775.95 k allocations: 24.647 MiB, 3.76% gc time)\n"
     ]
    }
   ],
   "source": [
    "@time fit!(LinearMixedModel(@formula(dif ~ 1+S+F+SF + (1+S+F+SF|subj) + (1+S+F+SF|item)), bs10));"
   ]
  },
  {
   "cell_type": "markdown",
   "metadata": {},
   "source": [
    "The fit of _maxLMM_ is suspect because of the high correlations of the vector-valued random effects for `item` and the repeated values in the random effects for `subj`.\n",
    "\n",
    "Many of the $\\theta$ parameters are close to zero in magnitude.  The two $\\lambda$ matrices, which are lower Cholesky factors formed from sections of the $\\theta$ parameters (in column-major ordering) are singular."
   ]
  },
  {
   "cell_type": "code",
   "execution_count": 5,
   "metadata": {},
   "outputs": [
    {
     "name": "stdout",
     "output_type": "stream",
     "text": [
      "[0.32376, -0.16634, 0.161123, -0.0265727, 0.245166, -0.0208495, 0.199812, 0.0, 3.59787e-6, 0.0, 0.0488435, -0.0249109, 0.0325864, -0.0255297, 0.0, -8.98771e-7, -1.07856e-6, 0.0, 2.16746e-6, 0.0]"
     ]
    }
   ],
   "source": [
    "show(getθ(m0))"
   ]
  },
  {
   "cell_type": "code",
   "execution_count": 6,
   "metadata": {},
   "outputs": [
    {
     "data": {
      "text/plain": [
       "4×4 LinearAlgebra.LowerTriangular{Float64,Array{Float64,2}}:\n",
       "  0.32376      ⋅          ⋅           ⋅ \n",
       " -0.16634     0.245166    ⋅           ⋅ \n",
       "  0.161123   -0.0208495  0.0          ⋅ \n",
       " -0.0265727   0.199812   3.59787e-6  0.0"
      ]
     },
     "execution_count": 6,
     "metadata": {},
     "output_type": "execute_result"
    }
   ],
   "source": [
    "Λ = getΛ(m0); Λ[1]"
   ]
  },
  {
   "cell_type": "code",
   "execution_count": 7,
   "metadata": {},
   "outputs": [
    {
     "data": {
      "text/plain": [
       "4×4 LinearAlgebra.LowerTriangular{Float64,Array{Float64,2}}:\n",
       "  0.0488435    ⋅           ⋅           ⋅ \n",
       " -0.0249109   0.0          ⋅           ⋅ \n",
       "  0.0325864  -8.98771e-7  0.0          ⋅ \n",
       " -0.0255297  -1.07856e-6  2.16746e-6  0.0"
      ]
     },
     "execution_count": 7,
     "metadata": {},
     "output_type": "execute_result"
    }
   ],
   "source": [
    "Λ[2]"
   ]
  },
  {
   "cell_type": "markdown",
   "metadata": {},
   "source": [
    "We consider elements of $\\theta$ of magnitude less than, say, `5.e-6`, to be negligible.  Notice that setting these very small values to zero actually results in a small improvement in the deviance (smaller is better)."
   ]
  },
  {
   "cell_type": "code",
   "execution_count": 8,
   "metadata": {},
   "outputs": [
    {
     "data": {
      "text/plain": [
       "20-element Array{Float64,1}:\n",
       "  0.3237597944500079  \n",
       " -0.16634028861140876 \n",
       "  0.16112271144203566 \n",
       " -0.02657274783775556 \n",
       "  0.24516621174073425 \n",
       " -0.020849496173726823\n",
       "  0.19981227038483562 \n",
       "  0.0                 \n",
       "  0.0                 \n",
       "  0.0                 \n",
       "  0.0488435034612734  \n",
       " -0.024910910620018142\n",
       "  0.03258639028669329 \n",
       " -0.025529719792430704\n",
       "  0.0                 \n",
       "  0.0                 \n",
       "  0.0                 \n",
       "  0.0                 \n",
       "  0.0                 \n",
       "  0.0                 "
      ]
     },
     "execution_count": 8,
     "metadata": {},
     "output_type": "execute_result"
    }
   ],
   "source": [
    "th = Float64[abs(x) < 5.e-6 ? 0. : x for x in getθ(m0)]"
   ]
  },
  {
   "cell_type": "code",
   "execution_count": 9,
   "metadata": {},
   "outputs": [
    {
     "data": {
      "text/plain": [
       "1030.9552951388107"
      ]
     },
     "execution_count": 9,
     "metadata": {},
     "output_type": "execute_result"
    }
   ],
   "source": [
    "objective(m0)"
   ]
  },
  {
   "cell_type": "code",
   "execution_count": 10,
   "metadata": {},
   "outputs": [
    {
     "data": {
      "text/plain": [
       "1030.9552951388107"
      ]
     },
     "execution_count": 10,
     "metadata": {},
     "output_type": "execute_result"
    }
   ],
   "source": [
    "objective(setθ!(m0, th))"
   ]
  },
  {
   "cell_type": "markdown",
   "metadata": {},
   "source": [
    "We save the value of `th` in the `R` package, so that the `lmer` fit can use it instead of recreating the value. (The optimization is much slower with `lmer`.)"
   ]
  },
  {
   "cell_type": "code",
   "execution_count": 11,
   "metadata": {},
   "outputs": [],
   "source": [
    "globalEnv[:bsm0th] = th;\n",
    "reval(R\"save(bsm0th,file='/tmp/bsm0th.rda',compress='xz')\");"
   ]
  },
  {
   "cell_type": "markdown",
   "metadata": {},
   "source": [
    "## Zero-correlation-parameter mixed model (_zcpLMM_)\n",
    "\n",
    "A zero-correlation-parameter model fits independent random effects for the intercept, the experimental factors and their interaction for each of the `subj` and `item` grouping factors."
   ]
  },
  {
   "cell_type": "code",
   "execution_count": 14,
   "metadata": {},
   "outputs": [
    {
     "data": {
      "text/plain": [
       "Linear mixed model fit by maximum likelihood\n",
       " Formula: dif ~ 1 + S + F + SF + (1 | subj) + ((0 + S) | subj) + ((0 + F) | subj) + ((0 + SF) | subj) + (1 | item) + ((0 + S) | item) + ((0 + F) | item) + ((0 + SF) | item)\n",
       "   logLik   -2 logLik     AIC        BIC    \n",
       " -540.04034 1080.08068 1106.08068 1171.16772\n",
       "\n",
       "Variance components:\n",
       "              Column     Variance     Std.Dev.    Corr.\n",
       " subj     (Intercept)  0.0118009957 0.108632388\n",
       "          S            0.0100786767 0.100392613  0.00\n",
       "          F            0.0000000000 0.000000000   NaN   NaN\n",
       "          SF           0.0035771994 0.059809694  0.00  0.00   NaN\n",
       " item     (Intercept)  0.0000000000 0.000000000\n",
       "          S            0.0000000000 0.000000000   NaN\n",
       "          F            0.0000000000 0.000000000   NaN   NaN\n",
       "          SF           0.0000000000 0.000000000   NaN   NaN   NaN\n",
       " Residual              0.1360327393 0.368826164\n",
       " Number of obs: 1104; levels of grouping factors: 92, 12\n",
       "\n",
       "  Fixed-effects parameters:\n",
       "               Estimate Std.Error  z value P(>|z|)\n",
       "(Intercept)    0.039221 0.0158584   2.4732  0.0134\n",
       "S            -0.0174094 0.0152568  -1.1411  0.2538\n",
       "F             0.0174819 0.0111004  1.57489  0.1153\n",
       "SF           -0.0322645 0.0127319 -2.53415  0.0113\n"
      ]
     },
     "execution_count": 14,
     "metadata": {},
     "output_type": "execute_result"
    }
   ],
   "source": [
    "m1 = fit!(LinearMixedModel(@formula(dif ~ 1+S+F+SF + (1|subj)+(0+S|subj)+(0+F|subj)+(0+SF|subj)\n",
    "+ (1|item)+(0+S|item)+(0+F|item)+(0+SF|item)), bs10))"
   ]
  },
  {
   "cell_type": "code",
   "execution_count": 15,
   "metadata": {},
   "outputs": [
    {
     "name": "stdout",
     "output_type": "stream",
     "text": [
      "[0.294535, 0.272195, 0.0, 0.162162, 0.0, 0.0, 0.0, 0.0]"
     ]
    }
   ],
   "source": [
    "show(getθ(m1))"
   ]
  },
  {
   "cell_type": "markdown",
   "metadata": {},
   "source": [
    "A likelihood-ratio test of the two model fits shows that the more complex model, `m0`, fits significantly better than the simpler model, `m1`."
   ]
  },
  {
   "cell_type": "code",
   "execution_count": 16,
   "metadata": {},
   "outputs": [
    {
     "data": {
      "text/html": [
       "<table class=\"data-frame\"><thead><tr><th></th><th>Df</th><th>Deviance</th><th>Chisq</th><th>pval</th></tr></thead><tbody><tr><th>1</th><td>13</td><td>1080.08</td><td>NaN</td><td>NaN</td></tr><tr><th>2</th><td>25</td><td>1030.96</td><td>49.1254</td><td>1.98867e-6</td></tr></tbody></table>"
      ],
      "text/plain": [
       "2×4 DataFrames.DataFrame\n",
       "│ Row │ Df │ Deviance │ Chisq   │ pval       │\n",
       "├─────┼────┼──────────┼─────────┼────────────┤\n",
       "│ 1   │ 13 │ 1080.08  │ NaN     │ NaN        │\n",
       "│ 2   │ 25 │ 1030.96  │ 49.1254 │ 1.98867e-6 │"
      ]
     },
     "execution_count": 16,
     "metadata": {},
     "output_type": "execute_result"
    }
   ],
   "source": [
    "MixedModels.lrt(m1,m0)"
   ]
  },
  {
   "cell_type": "markdown",
   "metadata": {},
   "source": [
    "Interestingly, the random effects for `item` in model `m1` are all zero; even the random intercepts.\n",
    "\n",
    "There is no purpose in doing a principal components analysis because the matrix of loadings with be the identity for a zero-correlation-parameter model."
   ]
  },
  {
   "cell_type": "code",
   "execution_count": 18,
   "metadata": {},
   "outputs": [
    {
     "data": {
      "text/plain": [
       "2-element Array{LinearAlgebra.LowerTriangular{Float64,Array{Float64,2}},1}:\n",
       " [0.294535 0.0 0.0 0.0; 0.0 0.272195 0.0 0.0; 0.0 0.0 0.0 0.0; 0.0 0.0 0.0 0.162162]\n",
       " [0.0 0.0 0.0 0.0; 0.0 0.0 0.0 0.0; 0.0 0.0 0.0 0.0; 0.0 0.0 0.0 0.0]               "
      ]
     },
     "execution_count": 18,
     "metadata": {},
     "output_type": "execute_result"
    }
   ],
   "source": [
    "getΛ(m1)"
   ]
  },
  {
   "cell_type": "markdown",
   "metadata": {},
   "source": [
    "## Iterative reduction of model complexity\n",
    "\n",
    "First we remove those variance components estimated to have a value of zero."
   ]
  },
  {
   "cell_type": "code",
   "execution_count": 19,
   "metadata": {},
   "outputs": [
    {
     "data": {
      "text/plain": [
       "Linear mixed model fit by maximum likelihood\n",
       " Formula: dif ~ 1 + S + F + SF + (1 | subj) + ((0 + S) | subj) + ((0 + SF) | subj)\n",
       "   logLik   -2 logLik     AIC        BIC    \n",
       " -540.04034 1080.08068 1096.08068 1136.13425\n",
       "\n",
       "Variance components:\n",
       "              Column     Variance   Std.Dev.    Corr.\n",
       " subj     (Intercept)  0.011800785 0.10863142\n",
       "          S            0.010078446 0.10039146  0.00\n",
       "          SF           0.003577069 0.05980860  0.00  0.00\n",
       " Residual              0.136033101 0.36882665\n",
       " Number of obs: 1104; levels of grouping factors: 92\n",
       "\n",
       "  Fixed-effects parameters:\n",
       "               Estimate Std.Error  z value P(>|z|)\n",
       "(Intercept)    0.039221 0.0158584  2.47321  0.0134\n",
       "S            -0.0174094 0.0152567  -1.1411  0.2538\n",
       "F             0.0174819 0.0111004  1.57489  0.1153\n",
       "SF           -0.0322645 0.0127318 -2.53416  0.0113\n"
      ]
     },
     "execution_count": 19,
     "metadata": {},
     "output_type": "execute_result"
    }
   ],
   "source": [
    "m2 = fit!(LinearMixedModel(@formula(dif ~ 1+S+F+SF + (1|subj)+(0+S|subj)+(0+SF|subj)),bs10))"
   ]
  },
  {
   "cell_type": "markdown",
   "metadata": {},
   "source": [
    "Naturally, the fit for this model is equivalent to that for `m1` because it is only the variance components with zero estimates that are eliminated."
   ]
  },
  {
   "cell_type": "code",
   "execution_count": 20,
   "metadata": {},
   "outputs": [
    {
     "data": {
      "text/html": [
       "<table class=\"data-frame\"><thead><tr><th></th><th>Df</th><th>Deviance</th><th>Chisq</th><th>pval</th></tr></thead><tbody><tr><th>1</th><td>8</td><td>1080.08</td><td>NaN</td><td>NaN</td></tr><tr><th>2</th><td>13</td><td>1080.08</td><td>-1.31429e-8</td><td>1.0</td></tr></tbody></table>"
      ],
      "text/plain": [
       "2×4 DataFrames.DataFrame\n",
       "│ Row │ Df │ Deviance │ Chisq       │ pval │\n",
       "├─────┼────┼──────────┼─────────────┼──────┤\n",
       "│ 1   │ 8  │ 1080.08  │ NaN         │ NaN  │\n",
       "│ 2   │ 13 │ 1080.08  │ -1.31429e-8 │ 1.0  │"
      ]
     },
     "execution_count": 20,
     "metadata": {},
     "output_type": "execute_result"
    }
   ],
   "source": [
    "MixedModels.lrt(m2,m1)"
   ]
  },
  {
   "cell_type": "markdown",
   "metadata": {},
   "source": [
    "Next we check whether the variance component for the interaction, `SF`, could reasonably be zero."
   ]
  },
  {
   "cell_type": "code",
   "execution_count": 21,
   "metadata": {},
   "outputs": [
    {
     "data": {
      "text/plain": [
       "Linear mixed model fit by maximum likelihood\n",
       " Formula: dif ~ 1 + S + F + SF + (1 | subj) + ((0 + S) | subj)\n",
       "   logLik   -2 logLik     AIC        BIC    \n",
       " -541.71563 1083.43125 1097.43125 1132.47812\n",
       "\n",
       "Variance components:\n",
       "              Column     Variance   Std.Dev.    Corr.\n",
       " subj     (Intercept)  0.011443002 0.10697197\n",
       "          S            0.009720704 0.09859363  0.00\n",
       " Residual              0.140325658 0.37460067\n",
       " Number of obs: 1104; levels of grouping factors: 92\n",
       "\n",
       "  Fixed-effects parameters:\n",
       "               Estimate Std.Error  z value P(>|z|)\n",
       "(Intercept)    0.039221 0.0158583  2.47321  0.0134\n",
       "S            -0.0174094 0.0152567  -1.1411  0.2538\n",
       "F             0.0174819 0.0112742  1.55062  0.1210\n",
       "SF           -0.0322645 0.0112742 -2.86181  0.0042\n"
      ]
     },
     "execution_count": 21,
     "metadata": {},
     "output_type": "execute_result"
    }
   ],
   "source": [
    "m3 = fit!(LinearMixedModel(@formula(dif ~ 1+S+F+SF + (1|subj)+(0+S|subj)),bs10))"
   ]
  },
  {
   "cell_type": "code",
   "execution_count": 22,
   "metadata": {},
   "outputs": [
    {
     "data": {
      "text/html": [
       "<table class=\"data-frame\"><thead><tr><th></th><th>Df</th><th>Deviance</th><th>Chisq</th><th>pval</th></tr></thead><tbody><tr><th>1</th><td>7</td><td>1083.43</td><td>NaN</td><td>NaN</td></tr><tr><th>2</th><td>8</td><td>1080.08</td><td>3.35057</td><td>0.0671818</td></tr></tbody></table>"
      ],
      "text/plain": [
       "2×4 DataFrames.DataFrame\n",
       "│ Row │ Df │ Deviance │ Chisq   │ pval      │\n",
       "├─────┼────┼──────────┼─────────┼───────────┤\n",
       "│ 1   │ 7  │ 1083.43  │ NaN     │ NaN       │\n",
       "│ 2   │ 8  │ 1080.08  │ 3.35057 │ 0.0671818 │"
      ]
     },
     "execution_count": 22,
     "metadata": {},
     "output_type": "execute_result"
    }
   ],
   "source": [
    "MixedModels.lrt(m3,m2)"
   ]
  },
  {
   "cell_type": "markdown",
   "metadata": {},
   "source": [
    "Not quite significant, but could be considered. The fit is still worse than for the _maxLMM_ `m0`. We now reintroduce a correlation parameters in the vector-valued random effects for `subj`.\n",
    "\n",
    "### Extending the reduced LMM with correlation parameters"
   ]
  },
  {
   "cell_type": "code",
   "execution_count": 23,
   "metadata": {},
   "outputs": [
    {
     "data": {
      "text/plain": [
       "Linear mixed model fit by maximum likelihood\n",
       " Formula: dif ~ 1 + S + F + SF + ((1 + S) | subj)\n",
       "   logLik   -2 logLik     AIC        BIC    \n",
       " -536.40176 1072.80351 1088.80351 1128.85708\n",
       "\n",
       "Variance components:\n",
       "              Column     Variance   Std.Dev.    Corr.\n",
       " subj     (Intercept)  0.011443015 0.10697203\n",
       "          S            0.009720691 0.09859356 -0.70\n",
       " Residual              0.140325648 0.37460065\n",
       " Number of obs: 1104; levels of grouping factors: 92\n",
       "\n",
       "  Fixed-effects parameters:\n",
       "               Estimate Std.Error  z value P(>|z|)\n",
       "(Intercept)    0.039221 0.0158583  2.47321  0.0134\n",
       "S            -0.0174094 0.0152567  -1.1411  0.2538\n",
       "F             0.0174819 0.0112742  1.55062  0.1210\n",
       "SF           -0.0322645 0.0112742 -2.86181  0.0042\n"
      ]
     },
     "execution_count": 23,
     "metadata": {},
     "output_type": "execute_result"
    }
   ],
   "source": [
    "m4 = fit!(LinearMixedModel(@formula(dif ~ 1+S+F+SF + (1+S|subj)), bs10))"
   ]
  },
  {
   "cell_type": "code",
   "execution_count": 24,
   "metadata": {},
   "outputs": [
    {
     "name": "stdout",
     "output_type": "stream",
     "text": [
      "[0.285563, -0.183472, 0.188707]"
     ]
    }
   ],
   "source": [
    "show(getθ(m4))"
   ]
  },
  {
   "cell_type": "code",
   "execution_count": 25,
   "metadata": {},
   "outputs": [
    {
     "data": {
      "text/html": [
       "<table class=\"data-frame\"><thead><tr><th></th><th>Df</th><th>Deviance</th><th>Chisq</th><th>pval</th></tr></thead><tbody><tr><th>1</th><td>8</td><td>1072.8</td><td>NaN</td><td>NaN</td></tr><tr><th>2</th><td>25</td><td>1030.96</td><td>41.8482</td><td>0.000705363</td></tr></tbody></table>"
      ],
      "text/plain": [
       "2×4 DataFrames.DataFrame\n",
       "│ Row │ Df │ Deviance │ Chisq   │ pval        │\n",
       "├─────┼────┼──────────┼─────────┼─────────────┤\n",
       "│ 1   │ 8  │ 1072.8   │ NaN     │ NaN         │\n",
       "│ 2   │ 25 │ 1030.96  │ 41.8482 │ 0.000705363 │"
      ]
     },
     "execution_count": 25,
     "metadata": {},
     "output_type": "execute_result"
    }
   ],
   "source": [
    "MixedModels.lrt(m4,m0)"
   ]
  }
 ],
 "metadata": {
  "kernelspec": {
   "display_name": "Julia 1.0.0",
   "language": "julia",
   "name": "julia-1.0"
  },
  "language_info": {
   "file_extension": ".jl",
   "mimetype": "application/julia",
   "name": "julia",
   "version": "1.0.0"
  }
 },
 "nbformat": 4,
 "nbformat_minor": 1
}
