{
 "cells": [
  {
   "cell_type": "markdown",
   "metadata": {},
   "source": [
    "# Kronmueller and Barr (2007) revisited"
   ]
  },
  {
   "cell_type": "code",
   "execution_count": 3,
   "metadata": {},
   "outputs": [],
   "source": [
    "using MixedModels, RCall"
   ]
  },
  {
   "cell_type": "code",
   "execution_count": 5,
   "metadata": {},
   "outputs": [
    {
     "data": {
      "text/html": [
       "<table class=\"data-frame\"><thead><tr><th></th><th>subj</th><th>item</th><th>RTtrunc</th><th>S</th><th>P</th><th>C</th><th>SP</th><th>SC</th><th>PC</th><th>SPC</th></tr></thead><tbody><tr><th>1</th><td>30</td><td>1</td><td>2267.0</td><td>1.0</td><td>-1.0</td><td>1.0</td><td>-1.0</td><td>1.0</td><td>-1.0</td><td>-1.0</td></tr><tr><th>2</th><td>30</td><td>2</td><td>3856.0</td><td>-1.0</td><td>1.0</td><td>-1.0</td><td>-1.0</td><td>1.0</td><td>-1.0</td><td>1.0</td></tr><tr><th>3</th><td>30</td><td>3</td><td>1567.0</td><td>-1.0</td><td>-1.0</td><td>-1.0</td><td>1.0</td><td>1.0</td><td>1.0</td><td>-1.0</td></tr><tr><th>4</th><td>30</td><td>4</td><td>1732.0</td><td>1.0</td><td>1.0</td><td>-1.0</td><td>1.0</td><td>-1.0</td><td>-1.0</td><td>-1.0</td></tr><tr><th>5</th><td>30</td><td>5</td><td>2660.0</td><td>1.0</td><td>-1.0</td><td>-1.0</td><td>-1.0</td><td>-1.0</td><td>1.0</td><td>1.0</td></tr><tr><th>6</th><td>30</td><td>6</td><td>2763.0</td><td>-1.0</td><td>1.0</td><td>1.0</td><td>-1.0</td><td>-1.0</td><td>1.0</td><td>-1.0</td></tr><tr><th>7</th><td>30</td><td>7</td><td>3528.0</td><td>-1.0</td><td>-1.0</td><td>1.0</td><td>1.0</td><td>-1.0</td><td>-1.0</td><td>1.0</td></tr><tr><th>8</th><td>30</td><td>8</td><td>1741.0</td><td>1.0</td><td>1.0</td><td>1.0</td><td>1.0</td><td>1.0</td><td>1.0</td><td>1.0</td></tr><tr><th>9</th><td>30</td><td>9</td><td>3692.0</td><td>1.0</td><td>-1.0</td><td>1.0</td><td>-1.0</td><td>1.0</td><td>-1.0</td><td>-1.0</td></tr><tr><th>10</th><td>30</td><td>10</td><td>1949.0</td><td>-1.0</td><td>1.0</td><td>-1.0</td><td>-1.0</td><td>1.0</td><td>-1.0</td><td>1.0</td></tr><tr><th>11</th><td>30</td><td>11</td><td>2189.0</td><td>-1.0</td><td>-1.0</td><td>-1.0</td><td>1.0</td><td>1.0</td><td>1.0</td><td>-1.0</td></tr><tr><th>12</th><td>30</td><td>12</td><td>2207.0</td><td>1.0</td><td>1.0</td><td>-1.0</td><td>1.0</td><td>-1.0</td><td>-1.0</td><td>-1.0</td></tr><tr><th>13</th><td>30</td><td>13</td><td>2078.0</td><td>1.0</td><td>-1.0</td><td>-1.0</td><td>-1.0</td><td>-1.0</td><td>1.0</td><td>1.0</td></tr><tr><th>14</th><td>30</td><td>14</td><td>1901.0</td><td>-1.0</td><td>1.0</td><td>1.0</td><td>-1.0</td><td>-1.0</td><td>1.0</td><td>-1.0</td></tr><tr><th>15</th><td>30</td><td>15</td><td>4015.0</td><td>-1.0</td><td>-1.0</td><td>1.0</td><td>1.0</td><td>-1.0</td><td>-1.0</td><td>1.0</td></tr><tr><th>16</th><td>30</td><td>16</td><td>1880.0</td><td>1.0</td><td>1.0</td><td>1.0</td><td>1.0</td><td>1.0</td><td>1.0</td><td>1.0</td></tr><tr><th>17</th><td>30</td><td>17</td><td>1444.0</td><td>1.0</td><td>-1.0</td><td>1.0</td><td>-1.0</td><td>1.0</td><td>-1.0</td><td>-1.0</td></tr><tr><th>18</th><td>30</td><td>18</td><td>1683.0</td><td>-1.0</td><td>1.0</td><td>-1.0</td><td>-1.0</td><td>1.0</td><td>-1.0</td><td>1.0</td></tr><tr><th>19</th><td>30</td><td>19</td><td>2037.0</td><td>-1.0</td><td>-1.0</td><td>-1.0</td><td>1.0</td><td>1.0</td><td>1.0</td><td>-1.0</td></tr><tr><th>20</th><td>30</td><td>20</td><td>1168.0</td><td>1.0</td><td>1.0</td><td>-1.0</td><td>1.0</td><td>-1.0</td><td>-1.0</td><td>-1.0</td></tr><tr><th>21</th><td>30</td><td>21</td><td>1930.0</td><td>1.0</td><td>-1.0</td><td>-1.0</td><td>-1.0</td><td>-1.0</td><td>1.0</td><td>1.0</td></tr><tr><th>22</th><td>30</td><td>22</td><td>1843.0</td><td>-1.0</td><td>1.0</td><td>1.0</td><td>-1.0</td><td>-1.0</td><td>1.0</td><td>-1.0</td></tr><tr><th>23</th><td>30</td><td>23</td><td>4969.0</td><td>-1.0</td><td>-1.0</td><td>1.0</td><td>1.0</td><td>-1.0</td><td>-1.0</td><td>1.0</td></tr><tr><th>24</th><td>30</td><td>24</td><td>1798.0</td><td>1.0</td><td>1.0</td><td>1.0</td><td>1.0</td><td>1.0</td><td>1.0</td><td>1.0</td></tr><tr><th>25</th><td>30</td><td>25</td><td>2436.0</td><td>1.0</td><td>-1.0</td><td>1.0</td><td>-1.0</td><td>1.0</td><td>-1.0</td><td>-1.0</td></tr><tr><th>26</th><td>30</td><td>26</td><td>2018.0</td><td>-1.0</td><td>1.0</td><td>-1.0</td><td>-1.0</td><td>1.0</td><td>-1.0</td><td>1.0</td></tr><tr><th>27</th><td>30</td><td>27</td><td>2278.0</td><td>-1.0</td><td>-1.0</td><td>-1.0</td><td>1.0</td><td>1.0</td><td>1.0</td><td>-1.0</td></tr><tr><th>28</th><td>30</td><td>28</td><td>1866.0</td><td>1.0</td><td>1.0</td><td>-1.0</td><td>1.0</td><td>-1.0</td><td>-1.0</td><td>-1.0</td></tr><tr><th>29</th><td>30</td><td>29</td><td>1743.0</td><td>1.0</td><td>-1.0</td><td>-1.0</td><td>-1.0</td><td>-1.0</td><td>1.0</td><td>1.0</td></tr><tr><th>30</th><td>30</td><td>30</td><td>1963.0</td><td>-1.0</td><td>1.0</td><td>1.0</td><td>-1.0</td><td>-1.0</td><td>1.0</td><td>-1.0</td></tr><tr><th>&vellip;</th><td>&vellip;</td><td>&vellip;</td><td>&vellip;</td><td>&vellip;</td><td>&vellip;</td><td>&vellip;</td><td>&vellip;</td><td>&vellip;</td><td>&vellip;</td><td>&vellip;</td></tr></tbody></table>"
      ],
      "text/plain": [
       "1790×10 DataFrames.DataFrame. Omitted printing of 1 columns\n",
       "│ Row  │ subj │ item │ RTtrunc │ S    │ P    │ C    │ SP   │ SC   │ PC   │\n",
       "├──────┼──────┼──────┼─────────┼──────┼──────┼──────┼──────┼──────┼──────┤\n",
       "│ 1    │ 30   │ 1    │ 2267.0  │ 1.0  │ -1.0 │ 1.0  │ -1.0 │ 1.0  │ -1.0 │\n",
       "│ 2    │ 30   │ 2    │ 3856.0  │ -1.0 │ 1.0  │ -1.0 │ -1.0 │ 1.0  │ -1.0 │\n",
       "│ 3    │ 30   │ 3    │ 1567.0  │ -1.0 │ -1.0 │ -1.0 │ 1.0  │ 1.0  │ 1.0  │\n",
       "│ 4    │ 30   │ 4    │ 1732.0  │ 1.0  │ 1.0  │ -1.0 │ 1.0  │ -1.0 │ -1.0 │\n",
       "│ 5    │ 30   │ 5    │ 2660.0  │ 1.0  │ -1.0 │ -1.0 │ -1.0 │ -1.0 │ 1.0  │\n",
       "│ 6    │ 30   │ 6    │ 2763.0  │ -1.0 │ 1.0  │ 1.0  │ -1.0 │ -1.0 │ 1.0  │\n",
       "│ 7    │ 30   │ 7    │ 3528.0  │ -1.0 │ -1.0 │ 1.0  │ 1.0  │ -1.0 │ -1.0 │\n",
       "│ 8    │ 30   │ 8    │ 1741.0  │ 1.0  │ 1.0  │ 1.0  │ 1.0  │ 1.0  │ 1.0  │\n",
       "│ 9    │ 30   │ 9    │ 3692.0  │ 1.0  │ -1.0 │ 1.0  │ -1.0 │ 1.0  │ -1.0 │\n",
       "│ 10   │ 30   │ 10   │ 1949.0  │ -1.0 │ 1.0  │ -1.0 │ -1.0 │ 1.0  │ -1.0 │\n",
       "│ 11   │ 30   │ 11   │ 2189.0  │ -1.0 │ -1.0 │ -1.0 │ 1.0  │ 1.0  │ 1.0  │\n",
       "⋮\n",
       "│ 1779 │ 103  │ 21   │ 1309.0  │ 1.0  │ 1.0  │ -1.0 │ 1.0  │ -1.0 │ -1.0 │\n",
       "│ 1780 │ 103  │ 22   │ 1623.0  │ 1.0  │ -1.0 │ -1.0 │ -1.0 │ -1.0 │ 1.0  │\n",
       "│ 1781 │ 103  │ 23   │ 2706.0  │ -1.0 │ 1.0  │ 1.0  │ -1.0 │ -1.0 │ 1.0  │\n",
       "│ 1782 │ 103  │ 24   │ 4281.0  │ -1.0 │ -1.0 │ 1.0  │ 1.0  │ -1.0 │ -1.0 │\n",
       "│ 1783 │ 103  │ 25   │ 2075.0  │ 1.0  │ 1.0  │ 1.0  │ 1.0  │ 1.0  │ 1.0  │\n",
       "│ 1784 │ 103  │ 26   │ 3179.0  │ 1.0  │ -1.0 │ 1.0  │ -1.0 │ 1.0  │ -1.0 │\n",
       "│ 1785 │ 103  │ 27   │ 1216.0  │ -1.0 │ 1.0  │ -1.0 │ -1.0 │ 1.0  │ -1.0 │\n",
       "│ 1786 │ 103  │ 28   │ 2286.0  │ -1.0 │ -1.0 │ -1.0 │ 1.0  │ 1.0  │ 1.0  │\n",
       "│ 1787 │ 103  │ 29   │ 1202.0  │ 1.0  │ 1.0  │ -1.0 │ 1.0  │ -1.0 │ -1.0 │\n",
       "│ 1788 │ 103  │ 30   │ 1581.0  │ 1.0  │ -1.0 │ -1.0 │ -1.0 │ -1.0 │ 1.0  │\n",
       "│ 1789 │ 103  │ 31   │ 1601.0  │ -1.0 │ 1.0  │ 1.0  │ -1.0 │ -1.0 │ 1.0  │\n",
       "│ 1790 │ 103  │ 32   │ 1941.0  │ -1.0 │ -1.0 │ 1.0  │ 1.0  │ -1.0 │ -1.0 │"
      ]
     },
     "execution_count": 5,
     "metadata": {},
     "output_type": "execute_result"
    }
   ],
   "source": [
    "kb07 = rcopy(R\"RePsychLing::kb07\")"
   ]
  },
  {
   "cell_type": "code",
   "execution_count": 6,
   "metadata": {},
   "outputs": [
    {
     "data": {
      "text/plain": [
       "true"
      ]
     },
     "execution_count": 6,
     "metadata": {},
     "output_type": "execute_result"
    }
   ],
   "source": [
    "all(kb07[:SP] == kb07[:S] .* kb07[:P])"
   ]
  },
  {
   "cell_type": "code",
   "execution_count": 10,
   "metadata": {},
   "outputs": [
    {
     "data": {
      "text/plain": [
       "Linear mixed model fit by maximum likelihood\n",
       " Formula: RTtrunc ~ 1 + S + P + C + S & P + S & C + P & C + &(S, P, C) + ((1 + S + P + SP + PC + SPC) | subj) + ((1 + S + P + C + SP + SC + PC + SPC) | item)\n",
       "     logLik        -2 logLik          AIC             BIC       \n",
       " -1.43070356×10⁴  2.86140713×10⁴  2.87460713×10⁴  2.91084093×10⁴\n",
       "\n",
       "Variance components:\n",
       "              Column     Variance    Std.Dev.    Corr.\n",
       " subj     (Intercept)   90499.28202 300.830986\n",
       "          S              5025.72841  70.892372 -0.45\n",
       "          P              5133.62938  71.649350 -0.49  0.11\n",
       "          SP             8234.63810  90.744907  0.18 -0.75 -0.54\n",
       "          PC             5199.60838  72.108310 -0.13  0.07  0.23 -0.17\n",
       "          SPC            3214.68961  56.698233 -0.44  0.37 -0.44  0.24 -0.55\n",
       " item     (Intercept)  130921.47241 361.830723\n",
       "          S               158.99004  12.609125 -1.00\n",
       "          P             63473.10665 251.938696 -0.69  0.69\n",
       "          C              3031.63780  55.060311  0.21 -0.21 -0.20\n",
       "          SP              812.94018  28.512106  0.62 -0.62 -0.12 -0.01\n",
       "          SC             1713.63248  41.396044  0.26 -0.26 -0.29  0.58 -0.23\n",
       "          PC             4611.35676  67.906971  0.06 -0.06  0.25 -0.14 -0.30 -0.04\n",
       "          SPC            4844.71454  69.603984  0.08 -0.08  0.28 -0.72  0.65 -0.71 -0.09\n",
       " Residual              415152.41374 644.323221\n",
       " Number of obs: 1790; levels of grouping factors: 56, 32\n",
       "\n",
       "  Fixed-effects parameters:\n",
       "             Estimate Std.Error  z value P(>|z|)\n",
       "(Intercept)   2180.71   77.0669  28.2964  <1e-99\n",
       "S            -67.0443   18.0741 -3.70942  0.0002\n",
       "P            -333.827    48.033 -6.94996  <1e-11\n",
       "C             78.9006   18.0747  4.36524   <1e-4\n",
       "S & P         22.0653   20.1099  1.09724  0.2725\n",
       "S & C          -18.87    16.897 -1.11677  0.2641\n",
       "P & C         5.20756   21.6544 0.240485  0.8100\n",
       "S & P & C    -23.8646   20.9943 -1.13672  0.2557\n"
      ]
     },
     "execution_count": 10,
     "metadata": {},
     "output_type": "execute_result"
    }
   ],
   "source": [
    "m0 = fit!(LinearMixedModel(@formula(RTtrunc ~ 1+S*P*C + (1+S+P+SP+PC+SPC|subj) + (1+S+P+C+SP+SC+PC+SPC|item)),\n",
    "        kb07))"
   ]
  },
  {
   "cell_type": "code",
   "execution_count": 12,
   "metadata": {},
   "outputs": [
    {
     "name": "stdout",
     "output_type": "stream",
     "text": [
      "  2.472847 seconds (3.26 M allocations: 89.465 MiB, 0.52% gc time)\n"
     ]
    }
   ],
   "source": [
    "@time fit!(LinearMixedModel(@formula(RTtrunc ~ 1+S*P*C + (1+S+P+SP+PC+SPC|subj) + (1+S+P+C+SP+SC+PC+SPC|item)),\n",
    "        kb07));"
   ]
  },
  {
   "cell_type": "code",
   "execution_count": 13,
   "metadata": {},
   "outputs": [
    {
     "data": {
      "text/plain": [
       "6×6 LinearAlgebra.LowerTriangular{Float64,Array{Float64,2}}:\n",
       "  0.466895     ⋅            ⋅           ⋅            ⋅          ⋅ \n",
       " -0.0495684   0.0982279     ⋅           ⋅            ⋅          ⋅ \n",
       " -0.0550213  -0.0135001    0.0956873    ⋅            ⋅          ⋅ \n",
       "  0.0251802  -0.106142    -0.0890209   0.00321092    ⋅          ⋅ \n",
       " -0.0146224   0.00198317   0.0218261  -0.0590407    0.091349    ⋅ \n",
       " -0.0389266   0.017188    -0.0645041   0.0231452   -0.0351597  0.0"
      ]
     },
     "execution_count": 13,
     "metadata": {},
     "output_type": "execute_result"
    }
   ],
   "source": [
    "getΛ(m0)[1]"
   ]
  },
  {
   "cell_type": "code",
   "execution_count": 14,
   "metadata": {},
   "outputs": [
    {
     "data": {
      "text/plain": [
       "8×8 LinearAlgebra.LowerTriangular{Float64,Array{Float64,2}}:\n",
       "  0.561567      ⋅            ⋅         …    ⋅            ⋅           ⋅ \n",
       " -0.0195696    0.0           ⋅              ⋅            ⋅           ⋅ \n",
       " -0.270605     0.163851     0.22982         ⋅            ⋅           ⋅ \n",
       "  0.0175618    0.0632483   -0.0538701       ⋅            ⋅           ⋅ \n",
       "  0.0275331    0.00797892   0.0179039       ⋅            ⋅           ⋅ \n",
       "  0.0166196    0.0251985   -0.0299071  …   0.0118357     ⋅           ⋅ \n",
       "  0.00658953   0.00930137   0.0452824     -0.0114754    0.0          ⋅ \n",
       "  0.00866917  -0.0331722    0.0858384     -0.00328019  -9.64347e-5  0.0"
      ]
     },
     "execution_count": 14,
     "metadata": {},
     "output_type": "execute_result"
    }
   ],
   "source": [
    "getΛ(m0)[2]"
   ]
  }
 ],
 "metadata": {
  "kernelspec": {
   "display_name": "Julia 1.0.0",
   "language": "julia",
   "name": "julia-1.0"
  },
  "language_info": {
   "file_extension": ".jl",
   "mimetype": "application/julia",
   "name": "julia",
   "version": "1.0.0"
  }
 },
 "nbformat": 4,
 "nbformat_minor": 1
}
